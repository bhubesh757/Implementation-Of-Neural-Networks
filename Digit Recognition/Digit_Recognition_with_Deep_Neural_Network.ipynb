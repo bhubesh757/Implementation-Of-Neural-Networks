{
  "nbformat": 4,
  "nbformat_minor": 0,
  "metadata": {
    "colab": {
      "name": "Digit Recognition with Deep Neural Network.ipynb",
      "version": "0.3.2",
      "provenance": [],
      "collapsed_sections": []
    },
    "kernelspec": {
      "name": "python3",
      "display_name": "Python 3"
    },
    "accelerator": "GPU"
  },
  "cells": [
    {
      "metadata": {
        "id": "IcfRtqZ42UG9",
        "colab_type": "text"
      },
      "cell_type": "markdown",
      "source": [
        "## Importing Essential Libraries"
      ]
    },
    {
      "metadata": {
        "id": "nUMDA6targAF",
        "colab_type": "code",
        "colab": {}
      },
      "cell_type": "code",
      "source": [
        "import numpy as np\n",
        "import matplotlib.pyplot as plt\n",
        "from keras.models import Sequential\n",
        "from keras.optimizers import Adam\n",
        "from keras.layers import Dense\n",
        "from keras.utils.np_utils import to_categorical\n",
        "from keras.datasets import mnist\n",
        "import random\n",
        "from keras.layers import Flatten\n",
        "from keras.layers import Dropout\n",
        "from keras.layers.convolutional import Conv2D\n",
        "from keras.layers.convolutional import MaxPooling2D"
      ],
      "execution_count": 0,
      "outputs": []
    },
    {
      "metadata": {
        "id": "aWCNaUcS2dgr",
        "colab_type": "text"
      },
      "cell_type": "markdown",
      "source": [
        "## Spliting Dataset"
      ]
    },
    {
      "metadata": {
        "id": "VCLwuDNX1rGd",
        "colab_type": "code",
        "colab": {}
      },
      "cell_type": "code",
      "source": [
        "(x_train,y_train),(x_test,y_test) = mnist.load_data()"
      ],
      "execution_count": 0,
      "outputs": []
    },
    {
      "metadata": {
        "id": "pVOT64d52usi",
        "colab_type": "text"
      },
      "cell_type": "markdown",
      "source": [
        "## Checking Shape of images"
      ]
    },
    {
      "metadata": {
        "id": "5WMCTAyT1uJT",
        "colab_type": "code",
        "outputId": "4a28f809-6ea5-43fa-935f-5e9f38dfd6af",
        "colab": {
          "base_uri": "https://localhost:8080/",
          "height": 85
        }
      },
      "cell_type": "code",
      "source": [
        "print(x_train.shape)\n",
        "print(y_train.shape)\n",
        "print(x_test.shape)\n",
        "print(y_test.shape)"
      ],
      "execution_count": 0,
      "outputs": [
        {
          "output_type": "stream",
          "text": [
            "(60000, 28, 28)\n",
            "(60000,)\n",
            "(10000, 28, 28)\n",
            "(10000,)\n"
          ],
          "name": "stdout"
        }
      ]
    },
    {
      "metadata": {
        "id": "LHiI4RB03Aqb",
        "colab_type": "text"
      },
      "cell_type": "markdown",
      "source": [
        "## Using Assert Function To Cross Validate Data"
      ]
    },
    {
      "metadata": {
        "id": "9NAmSs_W1vri",
        "colab_type": "code",
        "colab": {}
      },
      "cell_type": "code",
      "source": [
        "assert(x_train.shape[0]==y_train.shape[0]),\"Image Lengths Are Not Same\"\n",
        "assert(x_test.shape[0]==y_test.shape[0]),'Image Lengths Are Not Same'\n",
        "assert(x_train.shape[1:]==(28,28)),'Shapes Are Not Same'\n",
        "assert(x_test.shape[1:]==(28,28)),\"Shapes Are Not Same\""
      ],
      "execution_count": 0,
      "outputs": []
    },
    {
      "metadata": {
        "id": "Jsz-vjAo5zjS",
        "colab_type": "text"
      },
      "cell_type": "markdown",
      "source": [
        "## Plotting The Images"
      ]
    },
    {
      "metadata": {
        "id": "rQtpDWfS2E1C",
        "colab_type": "code",
        "outputId": "a9b18d39-5252-46d6-b120-35cda9c4f15c",
        "colab": {
          "base_uri": "https://localhost:8080/",
          "height": 736
        }
      },
      "cell_type": "code",
      "source": [
        "numberOfSamples = []\n",
        "classes = 10\n",
        "cols = 5\n",
        "fig,axs = plt.subplots(nrows=classes,ncols=cols,figsize=(15,10))\n",
        "fig.tight_layout()\n",
        "for i in range(cols):\n",
        "  for j in range(classes):\n",
        "    x_selected = x_train[y_train==j]\n",
        "    axs[j][i].imshow(x_selected[random.randint(0,len(x_selected)),:,:],cmap=\"gray\")\n",
        "    axs[j][i].axis('off')\n",
        "    if(i==2):\n",
        "      axs[j][i].set_title(j)\n",
        "      numberOfSamples.append(len(x_selected))"
      ],
      "execution_count": 0,
      "outputs": [
        {
          "output_type": "display_data",
          "data": {
            "image/png": "[encoded data removed]",
            "text/plain": [
              "<Figure size 1080x720 with 50 Axes>"
            ]
          },
          "metadata": {
            "tags": []
          }
        }
      ]
    },
    {
      "metadata": {
        "id": "3dYM0cAs_xI4",
        "colab_type": "text"
      },
      "cell_type": "markdown",
      "source": [
        "## Ploting Bar Plot For Number Of Samples"
      ]
    },
    {
      "metadata": {
        "id": "G-HsvePl94Kj",
        "colab_type": "code",
        "outputId": "8b0fdfed-e891-41b9-8ba8-c5e05845f025",
        "colab": {
          "base_uri": "https://localhost:8080/",
          "height": 393
        }
      },
      "cell_type": "code",
      "source": [
        "plt.bar(range(0,len(numberOfSamples)),numberOfSamples)\n",
        "plt.xticks(np.arange(0,len(numberOfSamples)))\n",
        "plt.title(\"Number Of Samples\")\n",
        "plt.xlabel(\"Numbers\")\n",
        "plt.ylabel(\"Number Of Samples\")"
      ],
      "execution_count": 0,
      "outputs": [
        {
          "output_type": "execute_result",
          "data": {
            "text/plain": [
              "Text(0, 0.5, 'Number Of Samples')"
            ]
          },
          "metadata": {
            "tags": []
          },
          "execution_count": 122
        },
        {
          "output_type": "display_data",
          "data": {
            "image/png": "[encoded data removed]",
            "text/plain": [
              "<Figure size 576x396 with 1 Axes>"
            ]
          },
          "metadata": {
            "tags": []
          }
        }
      ]
    },
    {
      "metadata": {
        "id": "cHqdpvh6Cpji",
        "colab_type": "text"
      },
      "cell_type": "markdown",
      "source": [
        "## Convert Y Data Into Categorical"
      ]
    },
    {
      "metadata": {
        "id": "adB2U811BVAI",
        "colab_type": "code",
        "colab": {}
      },
      "cell_type": "code",
      "source": [
        "y_train = to_categorical(y_train,10)\n",
        "y_test = to_categorical(y_test,10)"
      ],
      "execution_count": 0,
      "outputs": []
    },
    {
      "metadata": {
        "id": "jJYDqtKuC7BG",
        "colab_type": "text"
      },
      "cell_type": "markdown",
      "source": [
        "## Convert Every Image Into 0 To 1 Format For Faster Performance"
      ]
    },
    {
      "metadata": {
        "id": "GO7IPEunCk1S",
        "colab_type": "code",
        "colab": {}
      },
      "cell_type": "code",
      "source": [
        "x_train = x_train/255\n",
        "x_test = x_test/255"
      ],
      "execution_count": 0,
      "outputs": []
    },
    {
      "metadata": {
        "id": "X2aiAN8j6PC_",
        "colab_type": "text"
      },
      "cell_type": "markdown",
      "source": [
        "## Convert Image Into 28 By 28 By 1"
      ]
    },
    {
      "metadata": {
        "id": "mI-JnNOKCmvL",
        "colab_type": "code",
        "colab": {}
      },
      "cell_type": "code",
      "source": [
        "x_train = x_train.reshape(x_train.shape[0],28,28,1)\n",
        "x_test = x_test.reshape(x_test.shape[0],28,28,1)"
      ],
      "execution_count": 0,
      "outputs": []
    },
    {
      "metadata": {
        "id": "mzjSqMV9E-2R",
        "colab_type": "code",
        "outputId": "c965c458-9ca2-4b49-9df2-eb0611196800",
        "colab": {
          "base_uri": "https://localhost:8080/",
          "height": 34
        }
      },
      "cell_type": "code",
      "source": [
        "x_train[0].shape"
      ],
      "execution_count": 0,
      "outputs": [
        {
          "output_type": "execute_result",
          "data": {
            "text/plain": [
              "(28, 28, 1)"
            ]
          },
          "metadata": {
            "tags": []
          },
          "execution_count": 126
        }
      ]
    },
    {
      "metadata": {
        "id": "-F8gdVpz6pVF",
        "colab_type": "code",
        "outputId": "becfdd44-5fe8-4057-89e5-15dd02865ca8",
        "colab": {
          "base_uri": "https://localhost:8080/",
          "height": 364
        }
      },
      "cell_type": "code",
      "source": [
        "plt.imshow(x_train[0].reshape(28,28))"
      ],
      "execution_count": 0,
      "outputs": [
        {
          "output_type": "execute_result",
          "data": {
            "text/plain": [
              "<matplotlib.image.AxesImage at 0x7f819751a1d0>"
            ]
          },
          "metadata": {
            "tags": []
          },
          "execution_count": 127
        },
        {
          "output_type": "display_data",
          "data": {
            "image/png": "[encoded data removed]",
            "text/plain": [
              "<Figure size 576x396 with 1 Axes>"
            ]
          },
          "metadata": {
            "tags": []
          }
        }
      ]
    },
    {
      "metadata": {
        "id": "KiUQwbQ379zu",
        "colab_type": "code",
        "colab": {}
      },
      "cell_type": "code",
      "source": [
        "def lenet():\n",
        "  model = Sequential()\n",
        "  model.add(Conv2D(30,(3,3),input_shape=(28,28,1),activation=\"relu\"))\n",
        "  model.add(MaxPooling2D(pool_size=(2,2)))\n",
        "  model.add(Conv2D(15,(2,2),activation=\"relu\"))\n",
        "  model.add(MaxPooling2D(pool_size=(2,2)))\n",
        "  model.add(Flatten())\n",
        "  model.add(Dense(500,activation=\"relu\"))\n",
        "  model.add(Dropout(0.5))\n",
        "  model.add(Dropout(0.2))\n",
        "  model.add(Dense(10,activation=\"softmax\"))\n",
        "  model.compile(Adam(lr=0.01),'categorical_crossentropy',metrics=['accuracy'])\n",
        "  return model"
      ],
      "execution_count": 0,
      "outputs": []
    },
    {
      "metadata": {
        "id": "1_ZqU4msHE-t",
        "colab_type": "code",
        "outputId": "c73bba23-e0f4-4eb9-e9d1-73ef07e9386e",
        "colab": {
          "base_uri": "https://localhost:8080/",
          "height": 442
        }
      },
      "cell_type": "code",
      "source": [
        "model = lenet()\n",
        "model.summary()"
      ],
      "execution_count": 0,
      "outputs": [
        {
          "output_type": "stream",
          "text": [
            "_________________________________________________________________\n",
            "Layer (type)                 Output Shape              Param #   \n",
            "=================================================================\n",
            "conv2d_13 (Conv2D)           (None, 26, 26, 30)        300       \n",
            "_________________________________________________________________\n",
            "max_pooling2d_13 (MaxPooling (None, 13, 13, 30)        0         \n",
            "_________________________________________________________________\n",
            "conv2d_14 (Conv2D)           (None, 12, 12, 15)        1815      \n",
            "_________________________________________________________________\n",
            "max_pooling2d_14 (MaxPooling (None, 6, 6, 15)          0         \n",
            "_________________________________________________________________\n",
            "flatten_7 (Flatten)          (None, 540)               0         \n",
            "_________________________________________________________________\n",
            "dense_12 (Dense)             (None, 500)               270500    \n",
            "_________________________________________________________________\n",
            "dropout_6 (Dropout)          (None, 500)               0         \n",
            "_________________________________________________________________\n",
            "dropout_7 (Dropout)          (None, 500)               0         \n",
            "_________________________________________________________________\n",
            "dense_13 (Dense)             (None, 10)                5010      \n",
            "=================================================================\n",
            "Total params: 277,625\n",
            "Trainable params: 277,625\n",
            "Non-trainable params: 0\n",
            "_________________________________________________________________\n"
          ],
          "name": "stdout"
        }
      ]
    },
    {
      "metadata": {
        "id": "1TSEFjhbHjvP",
        "colab_type": "code",
        "outputId": "fca3cb6a-c475-4609-f9aa-e362344af0f7",
        "colab": {
          "base_uri": "https://localhost:8080/",
          "height": 374
        }
      },
      "cell_type": "code",
      "source": [
        "h = model.fit(x=x_train,y=y_train,verbose=1,shuffle=123,validation_split=0.1,batch_size=400,epochs=10)"
      ],
      "execution_count": 0,
      "outputs": [
        {
          "output_type": "stream",
          "text": [
            "Train on 54000 samples, validate on 6000 samples\n",
            "Epoch 1/10\n",
            "54000/54000 [==============================] - 3s 48us/step - loss: 0.2671 - acc: 0.9147 - val_loss: 0.0548 - val_acc: 0.9837\n",
            "Epoch 2/10\n",
            "54000/54000 [==============================] - 2s 36us/step - loss: 0.0845 - acc: 0.9737 - val_loss: 0.0511 - val_acc: 0.9838\n",
            "Epoch 3/10\n",
            "54000/54000 [==============================] - 2s 36us/step - loss: 0.0694 - acc: 0.9787 - val_loss: 0.0425 - val_acc: 0.9887\n",
            "Epoch 4/10\n",
            "54000/54000 [==============================] - 2s 36us/step - loss: 0.0632 - acc: 0.9801 - val_loss: 0.0511 - val_acc: 0.9853\n",
            "Epoch 5/10\n",
            "54000/54000 [==============================] - 2s 36us/step - loss: 0.0579 - acc: 0.9820 - val_loss: 0.0398 - val_acc: 0.9902\n",
            "Epoch 6/10\n",
            "54000/54000 [==============================] - 2s 37us/step - loss: 0.0471 - acc: 0.9852 - val_loss: 0.0423 - val_acc: 0.9880\n",
            "Epoch 7/10\n",
            "54000/54000 [==============================] - 2s 36us/step - loss: 0.0479 - acc: 0.9846 - val_loss: 0.0421 - val_acc: 0.9887\n",
            "Epoch 8/10\n",
            "54000/54000 [==============================] - 2s 36us/step - loss: 0.0447 - acc: 0.9859 - val_loss: 0.0359 - val_acc: 0.9902\n",
            "Epoch 9/10\n",
            "54000/54000 [==============================] - 2s 36us/step - loss: 0.0379 - acc: 0.9878 - val_loss: 0.0420 - val_acc: 0.9898\n",
            "Epoch 10/10\n",
            "54000/54000 [==============================] - 2s 36us/step - loss: 0.0418 - acc: 0.9868 - val_loss: 0.0389 - val_acc: 0.9908\n"
          ],
          "name": "stdout"
        }
      ]
    },
    {
      "metadata": {
        "id": "uS1DKE3uIhzB",
        "colab_type": "code",
        "outputId": "6a368868-4786-42d0-f349-e1853df742ea",
        "colab": {
          "base_uri": "https://localhost:8080/",
          "height": 364
        }
      },
      "cell_type": "code",
      "source": [
        "plt.plot(h.history['acc'])\n",
        "plt.plot(h.history['val_acc'])"
      ],
      "execution_count": 0,
      "outputs": [
        {
          "output_type": "execute_result",
          "data": {
            "text/plain": [
              "[<matplotlib.lines.Line2D at 0x7f8196e9dc18>]"
            ]
          },
          "metadata": {
            "tags": []
          },
          "execution_count": 131
        },
        {
          "output_type": "display_data",
          "data": {
            "image/png": "[encoded data removed]",
            "text/plain": [
              "<Figure size 576x396 with 1 Axes>"
            ]
          },
          "metadata": {
            "tags": []
          }
        }
      ]
    },
    {
      "metadata": {
        "id": "73xfZ-aJJYwz",
        "colab_type": "code",
        "outputId": "566de2dd-9065-487c-b2f1-80d6685538b8",
        "colab": {
          "base_uri": "https://localhost:8080/",
          "height": 364
        }
      },
      "cell_type": "code",
      "source": [
        "plt.plot(h.history['loss'])\n",
        "plt.plot(h.history['val_loss'])"
      ],
      "execution_count": 0,
      "outputs": [
        {
          "output_type": "execute_result",
          "data": {
            "text/plain": [
              "[<matplotlib.lines.Line2D at 0x7f8197552470>]"
            ]
          },
          "metadata": {
            "tags": []
          },
          "execution_count": 132
        },
        {
          "output_type": "display_data",
          "data": {
            "image/png": "[encoded data removed]",
            "text/plain": [
              "<Figure size 576x396 with 1 Axes>"
            ]
          },
          "metadata": {
            "tags": []
          }
        }
      ]
    },
    {
      "metadata": {
        "id": "ZjSXwSBYK1_x",
        "colab_type": "text"
      },
      "cell_type": "markdown",
      "source": [
        "## Testing With Real Data"
      ]
    },
    {
      "metadata": {
        "id": "b2RboHZfKjI2",
        "colab_type": "code",
        "colab": {}
      },
      "cell_type": "code",
      "source": [
        "import requests\n",
        "from PIL import Image\n",
        "import cv2"
      ],
      "execution_count": 0,
      "outputs": []
    },
    {
      "metadata": {
        "id": "wYVs3hjIMh6q",
        "colab_type": "code",
        "colab": {}
      },
      "cell_type": "code",
      "source": [
        "url = \"https://www.researchgate.net/profile/Jose_Sempere/publication/221258631/figure/fig1/AS:305526891139075@1449854695342/Handwritten-digit-2.png\"\n",
        "res = requests.get(url,stream=True)\n",
        "img = Image.open(res.raw)\n",
        "img = np.asarray(img)\n",
        "img = cv2.resize(img,(28,28))\n",
        "img = cv2.cvtColor(img,cv2.COLOR_BGR2GRAY)\n",
        "img = img.reshape(1,28,28,1)"
      ],
      "execution_count": 0,
      "outputs": []
    },
    {
      "metadata": {
        "id": "0aDA7RZDM35c",
        "colab_type": "code",
        "colab": {}
      },
      "cell_type": "code",
      "source": [
        "prediction = model.predict_classes(img)"
      ],
      "execution_count": 0,
      "outputs": []
    },
    {
      "metadata": {
        "id": "I48I_uweM5jl",
        "colab_type": "code",
        "outputId": "5344ee6f-3c35-4b1d-dd83-a829d185c276",
        "colab": {
          "base_uri": "https://localhost:8080/",
          "height": 34
        }
      },
      "cell_type": "code",
      "source": [
        "prediction"
      ],
      "execution_count": 142,
      "outputs": [
        {
          "output_type": "execute_result",
          "data": {
            "text/plain": [
              "array([2])"
            ]
          },
          "metadata": {
            "tags": []
          },
          "execution_count": 142
        }
      ]
    },
    {
      "metadata": {
        "id": "hgSVlt5aNrcc",
        "colab_type": "code",
        "colab": {}
      },
      "cell_type": "code",
      "source": [
        ""
      ],
      "execution_count": 0,
      "outputs": []
    }
  ]
}