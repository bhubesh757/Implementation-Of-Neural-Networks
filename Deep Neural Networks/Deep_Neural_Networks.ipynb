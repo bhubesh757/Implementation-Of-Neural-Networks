{
  "nbformat": 4,
  "nbformat_minor": 0,
  "metadata": {
    "colab": {
      "name": "Deep Neural Networks.ipynb",
      "version": "0.3.2",
      "provenance": [],
      "collapsed_sections": []
    },
    "kernelspec": {
      "name": "python3",
      "display_name": "Python 3"
    }
  },
  "cells": [
    {
      "metadata": {
        "id": "0j8yhVdVtVON",
        "colab_type": "code",
        "colab": {}
      },
      "cell_type": "code",
      "source": [
        "import numpy as np\n",
        "import matplotlib.pyplot as plt\n",
        "from sklearn import datasets"
      ],
      "execution_count": 0,
      "outputs": []
    },
    {
      "metadata": {
        "id": "uYoyz8ZPtfHs",
        "colab_type": "code",
        "colab": {}
      },
      "cell_type": "code",
      "source": [
        "points = 500\n",
        "np.random.seed(0)"
      ],
      "execution_count": 0,
      "outputs": []
    },
    {
      "metadata": {
        "id": "hlrPqBSQtjHB",
        "colab_type": "code",
        "colab": {}
      },
      "cell_type": "code",
      "source": [
        "X,y = datasets.make_circles(n_samples=points,random_state=123,noise=0.1,factor=0.2)"
      ],
      "execution_count": 0,
      "outputs": []
    },
    {
      "metadata": {
        "id": "P4d8Xa7GtyPK",
        "colab_type": "code",
        "colab": {
          "base_uri": "https://localhost:8080/",
          "height": 364
        },
        "outputId": "2b21632f-dcc1-4301-a1e3-f3d134bf80d3"
      },
      "cell_type": "code",
      "source": [
        "plt.scatter(X[y==0,0],X[y==0,1])\n",
        "plt.scatter(X[y==1,0],X[y==1,1])"
      ],
      "execution_count": 38,
      "outputs": [
        {
          "output_type": "execute_result",
          "data": {
            "text/plain": [
              "<matplotlib.collections.PathCollection at 0x7fec81253160>"
            ]
          },
          "metadata": {
            "tags": []
          },
          "execution_count": 38
        },
        {
          "output_type": "display_data",
          "data": {
            "image/png": "[encoded data removed]",
            "text/plain": [
              "<Figure size 576x396 with 1 Axes>"
            ]
          },
          "metadata": {
            "tags": []
          }
        }
      ]
    },
    {
      "metadata": {
        "id": "JsGX01Lyu2_9",
        "colab_type": "code",
        "colab": {}
      },
      "cell_type": "code",
      "source": [
        "from keras.models import Sequential"
      ],
      "execution_count": 0,
      "outputs": []
    },
    {
      "metadata": {
        "id": "JudSSunQxmmj",
        "colab_type": "code",
        "colab": {}
      },
      "cell_type": "code",
      "source": [
        "from keras.layers import Dense"
      ],
      "execution_count": 0,
      "outputs": []
    },
    {
      "metadata": {
        "id": "8IEss6TCxoQs",
        "colab_type": "code",
        "colab": {}
      },
      "cell_type": "code",
      "source": [
        "from keras.optimizers import Adam"
      ],
      "execution_count": 0,
      "outputs": []
    },
    {
      "metadata": {
        "id": "WUZErVbbxqKk",
        "colab_type": "code",
        "colab": {}
      },
      "cell_type": "code",
      "source": [
        "model = Sequential()"
      ],
      "execution_count": 0,
      "outputs": []
    },
    {
      "metadata": {
        "id": "lRSIFR-ax3Uq",
        "colab_type": "code",
        "colab": {}
      },
      "cell_type": "code",
      "source": [
        "model.add(Dense(4,input_shape=(2,),activation=\"sigmoid\"))"
      ],
      "execution_count": 0,
      "outputs": []
    },
    {
      "metadata": {
        "id": "2Y3ClEvxx9ds",
        "colab_type": "code",
        "colab": {}
      },
      "cell_type": "code",
      "source": [
        "model.add(Dense(1,activation=\"sigmoid\"))"
      ],
      "execution_count": 0,
      "outputs": []
    },
    {
      "metadata": {
        "id": "LoobdnetyKGn",
        "colab_type": "code",
        "colab": {}
      },
      "cell_type": "code",
      "source": [
        "adam = Adam(lr=0.03)"
      ],
      "execution_count": 0,
      "outputs": []
    },
    {
      "metadata": {
        "id": "Hf1H7rkMyOLK",
        "colab_type": "code",
        "colab": {}
      },
      "cell_type": "code",
      "source": [
        "model.compile(adam,'binary_crossentropy',metrics=['accuracy'])"
      ],
      "execution_count": 0,
      "outputs": []
    },
    {
      "metadata": {
        "id": "j877HkESyaa3",
        "colab_type": "code",
        "colab": {
          "base_uri": "https://localhost:8080/",
          "height": 1717
        },
        "outputId": "40854241-3d2f-4eb0-fc66-9d1432c45c4e"
      },
      "cell_type": "code",
      "source": [
        "h = model.fit(x=X,y=y,verbose=1,batch_size=20,epochs=50)"
      ],
      "execution_count": 47,
      "outputs": [
        {
          "output_type": "stream",
          "text": [
            "Epoch 1/50\n",
            "500/500 [==============================] - 0s 490us/step - loss: 0.6939 - acc: 0.5160\n",
            "Epoch 2/50\n",
            "500/500 [==============================] - 0s 55us/step - loss: 0.6919 - acc: 0.4780\n",
            "Epoch 3/50\n",
            "500/500 [==============================] - 0s 58us/step - loss: 0.6869 - acc: 0.6160\n",
            "Epoch 4/50\n",
            "500/500 [==============================] - 0s 53us/step - loss: 0.6679 - acc: 0.7440\n",
            "Epoch 5/50\n",
            "500/500 [==============================] - 0s 56us/step - loss: 0.6382 - acc: 0.8420\n",
            "Epoch 6/50\n",
            "500/500 [==============================] - 0s 55us/step - loss: 0.5847 - acc: 0.8800\n",
            "Epoch 7/50\n",
            "500/500 [==============================] - 0s 56us/step - loss: 0.5205 - acc: 0.8680\n",
            "Epoch 8/50\n",
            "500/500 [==============================] - 0s 58us/step - loss: 0.4524 - acc: 0.8960\n",
            "Epoch 9/50\n",
            "500/500 [==============================] - 0s 63us/step - loss: 0.3895 - acc: 0.9020\n",
            "Epoch 10/50\n",
            "500/500 [==============================] - 0s 64us/step - loss: 0.3333 - acc: 0.9120\n",
            "Epoch 11/50\n",
            "500/500 [==============================] - 0s 64us/step - loss: 0.2883 - acc: 0.9240\n",
            "Epoch 12/50\n",
            "500/500 [==============================] - 0s 61us/step - loss: 0.2482 - acc: 0.9340\n",
            "Epoch 13/50\n",
            "500/500 [==============================] - 0s 61us/step - loss: 0.2166 - acc: 0.9700\n",
            "Epoch 14/50\n",
            "500/500 [==============================] - 0s 57us/step - loss: 0.1894 - acc: 0.9960\n",
            "Epoch 15/50\n",
            "500/500 [==============================] - 0s 54us/step - loss: 0.1656 - acc: 0.9960\n",
            "Epoch 16/50\n",
            "500/500 [==============================] - 0s 56us/step - loss: 0.1428 - acc: 0.9940\n",
            "Epoch 17/50\n",
            "500/500 [==============================] - 0s 58us/step - loss: 0.1216 - acc: 0.9960\n",
            "Epoch 18/50\n",
            "500/500 [==============================] - 0s 55us/step - loss: 0.1013 - acc: 0.9960\n",
            "Epoch 19/50\n",
            "500/500 [==============================] - 0s 57us/step - loss: 0.0857 - acc: 0.9980\n",
            "Epoch 20/50\n",
            "500/500 [==============================] - 0s 54us/step - loss: 0.0742 - acc: 0.9960\n",
            "Epoch 21/50\n",
            "500/500 [==============================] - 0s 58us/step - loss: 0.0651 - acc: 0.9980\n",
            "Epoch 22/50\n",
            "500/500 [==============================] - 0s 55us/step - loss: 0.0581 - acc: 0.9980\n",
            "Epoch 23/50\n",
            "500/500 [==============================] - 0s 59us/step - loss: 0.0524 - acc: 0.9980\n",
            "Epoch 24/50\n",
            "500/500 [==============================] - 0s 58us/step - loss: 0.0476 - acc: 0.9980\n",
            "Epoch 25/50\n",
            "500/500 [==============================] - 0s 56us/step - loss: 0.0438 - acc: 0.9980\n",
            "Epoch 26/50\n",
            "500/500 [==============================] - 0s 55us/step - loss: 0.0406 - acc: 0.9980\n",
            "Epoch 27/50\n",
            "500/500 [==============================] - 0s 55us/step - loss: 0.0377 - acc: 0.9980\n",
            "Epoch 28/50\n",
            "500/500 [==============================] - 0s 53us/step - loss: 0.0349 - acc: 1.0000\n",
            "Epoch 29/50\n",
            "500/500 [==============================] - 0s 55us/step - loss: 0.0327 - acc: 0.9980\n",
            "Epoch 30/50\n",
            "500/500 [==============================] - 0s 57us/step - loss: 0.0305 - acc: 0.9980\n",
            "Epoch 31/50\n",
            "500/500 [==============================] - 0s 61us/step - loss: 0.0291 - acc: 0.9980\n",
            "Epoch 32/50\n",
            "500/500 [==============================] - 0s 62us/step - loss: 0.0271 - acc: 1.0000\n",
            "Epoch 33/50\n",
            "500/500 [==============================] - 0s 57us/step - loss: 0.0256 - acc: 1.0000\n",
            "Epoch 34/50\n",
            "500/500 [==============================] - 0s 56us/step - loss: 0.0244 - acc: 1.0000\n",
            "Epoch 35/50\n",
            "500/500 [==============================] - 0s 59us/step - loss: 0.0230 - acc: 0.9980\n",
            "Epoch 36/50\n",
            "500/500 [==============================] - 0s 59us/step - loss: 0.0220 - acc: 1.0000\n",
            "Epoch 37/50\n",
            "500/500 [==============================] - 0s 55us/step - loss: 0.0209 - acc: 1.0000\n",
            "Epoch 38/50\n",
            "500/500 [==============================] - 0s 62us/step - loss: 0.0201 - acc: 0.9980\n",
            "Epoch 39/50\n",
            "500/500 [==============================] - 0s 56us/step - loss: 0.0190 - acc: 1.0000\n",
            "Epoch 40/50\n",
            "500/500 [==============================] - 0s 57us/step - loss: 0.0182 - acc: 1.0000\n",
            "Epoch 41/50\n",
            "500/500 [==============================] - 0s 55us/step - loss: 0.0174 - acc: 1.0000\n",
            "Epoch 42/50\n",
            "500/500 [==============================] - 0s 56us/step - loss: 0.0168 - acc: 1.0000\n",
            "Epoch 43/50\n",
            "500/500 [==============================] - 0s 56us/step - loss: 0.0161 - acc: 1.0000\n",
            "Epoch 44/50\n",
            "500/500 [==============================] - 0s 56us/step - loss: 0.0155 - acc: 1.0000\n",
            "Epoch 45/50\n",
            "500/500 [==============================] - 0s 56us/step - loss: 0.0149 - acc: 1.0000\n",
            "Epoch 46/50\n",
            "500/500 [==============================] - 0s 54us/step - loss: 0.0143 - acc: 1.0000\n",
            "Epoch 47/50\n",
            "500/500 [==============================] - 0s 53us/step - loss: 0.0138 - acc: 1.0000\n",
            "Epoch 48/50\n",
            "500/500 [==============================] - 0s 58us/step - loss: 0.0134 - acc: 1.0000\n",
            "Epoch 49/50\n",
            "500/500 [==============================] - 0s 52us/step - loss: 0.0128 - acc: 1.0000\n",
            "Epoch 50/50\n",
            "500/500 [==============================] - 0s 53us/step - loss: 0.0125 - acc: 1.0000\n"
          ],
          "name": "stdout"
        }
      ]
    },
    {
      "metadata": {
        "id": "2HlTEBuyyjA6",
        "colab_type": "code",
        "colab": {
          "base_uri": "https://localhost:8080/",
          "height": 393
        },
        "outputId": "9067342d-a7ba-41a1-d11e-48873f7f2413"
      },
      "cell_type": "code",
      "source": [
        "plt.plot(h.history['acc'])\n",
        "plt.xlabel('accuracy')\n",
        "plt.ylabel('epochs')\n",
        "plt.title('Accuracy')"
      ],
      "execution_count": 51,
      "outputs": [
        {
          "output_type": "execute_result",
          "data": {
            "text/plain": [
              "Text(0.5, 1.0, 'Accuracy')"
            ]
          },
          "metadata": {
            "tags": []
          },
          "execution_count": 51
        },
        {
          "output_type": "display_data",
          "data": {
            "image/png": "[encoded data removed]",
            "text/plain": [
              "<Figure size 576x396 with 1 Axes>"
            ]
          },
          "metadata": {
            "tags": []
          }
        }
      ]
    },
    {
      "metadata": {
        "id": "eT8VgLm0zdjh",
        "colab_type": "code",
        "colab": {
          "base_uri": "https://localhost:8080/",
          "height": 393
        },
        "outputId": "5095653b-12ae-49e0-c344-0c19fe03b90b"
      },
      "cell_type": "code",
      "source": [
        "plt.plot(h.history['loss'])\n",
        "plt.xlabel('Loss')\n",
        "plt.ylabel('epochs')\n",
        "plt.title('Loss')\n",
        "\n"
      ],
      "execution_count": 52,
      "outputs": [
        {
          "output_type": "execute_result",
          "data": {
            "text/plain": [
              "Text(0.5, 1.0, 'Loss')"
            ]
          },
          "metadata": {
            "tags": []
          },
          "execution_count": 52
        },
        {
          "output_type": "display_data",
          "data": {
            "image/png": "[encoded data removed]",
            "text/plain": [
              "<Figure size 576x396 with 1 Axes>"
            ]
          },
          "metadata": {
            "tags": []
          }
        }
      ]
    },
    {
      "metadata": {
        "id": "6Wk9XmBR1BVQ",
        "colab_type": "code",
        "colab": {}
      },
      "cell_type": "code",
      "source": [
        "X = 1\n",
        "y = 1\n",
        "array = np.array([[X,y]])"
      ],
      "execution_count": 0,
      "outputs": []
    },
    {
      "metadata": {
        "id": "GSxltON91e6_",
        "colab_type": "code",
        "colab": {
          "base_uri": "https://localhost:8080/",
          "height": 34
        },
        "outputId": "10771cf6-a33e-4368-e0fe-b00acf8932ba"
      },
      "cell_type": "code",
      "source": [
        "array"
      ],
      "execution_count": 67,
      "outputs": [
        {
          "output_type": "execute_result",
          "data": {
            "text/plain": [
              "array([[1, 1]])"
            ]
          },
          "metadata": {
            "tags": []
          },
          "execution_count": 67
        }
      ]
    },
    {
      "metadata": {
        "id": "OxWV6B1t1ngg",
        "colab_type": "code",
        "colab": {}
      },
      "cell_type": "code",
      "source": [
        "prediction = model.predict_classes(array)"
      ],
      "execution_count": 0,
      "outputs": []
    },
    {
      "metadata": {
        "id": "P6vWtlzb1vsG",
        "colab_type": "code",
        "colab": {
          "base_uri": "https://localhost:8080/",
          "height": 34
        },
        "outputId": "ba57e7f1-fda3-4b55-d6bf-b3f84aa208d6"
      },
      "cell_type": "code",
      "source": [
        "prediction"
      ],
      "execution_count": 69,
      "outputs": [
        {
          "output_type": "execute_result",
          "data": {
            "text/plain": [
              "array([[0]], dtype=int32)"
            ]
          },
          "metadata": {
            "tags": []
          },
          "execution_count": 69
        }
      ]
    },
    {
      "metadata": {
        "id": "kDgLn_721xCJ",
        "colab_type": "code",
        "colab": {}
      },
      "cell_type": "code",
      "source": [
        ""
      ],
      "execution_count": 0,
      "outputs": []
    }
  ]
}