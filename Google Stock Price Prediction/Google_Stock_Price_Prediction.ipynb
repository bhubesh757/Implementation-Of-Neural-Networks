{
  "nbformat": 4,
  "nbformat_minor": 0,
  "metadata": {
    "colab": {
      "name": "Google Stock Price Prediction.ipynb",
      "version": "0.3.2",
      "provenance": [],
      "collapsed_sections": []
    },
    "kernelspec": {
      "name": "python3",
      "display_name": "Python 3"
    }
  },
  "cells": [
    {
      "metadata": {
        "id": "PhU57-8cyNk8",
        "colab_type": "code",
        "colab": {}
      },
      "cell_type": "code",
      "source": [
        "import numpy as np\n",
        "import pandas as pd\n",
        "import matplotlib.pyplot as plt\n",
        "%matplotlib inline"
      ],
      "execution_count": 0,
      "outputs": []
    },
    {
      "metadata": {
        "id": "6MdWvaM81igt",
        "colab_type": "code",
        "colab": {}
      },
      "cell_type": "code",
      "source": [
        "# from google.colab import files\n",
        "# files.upload()"
      ],
      "execution_count": 0,
      "outputs": []
    },
    {
      "metadata": {
        "id": "4_qjcTgA1rJj",
        "colab_type": "code",
        "colab": {}
      },
      "cell_type": "code",
      "source": [
        "dataset = pd.read_csv('Google_Stock_Price_Train.csv')"
      ],
      "execution_count": 0,
      "outputs": []
    },
    {
      "metadata": {
        "id": "aUZo4RmV2BB1",
        "colab_type": "code",
        "outputId": "8ac7a3b7-2375-4d6d-a20f-013181380a1e",
        "colab": {
          "base_uri": "https://localhost:8080/",
          "height": 206
        }
      },
      "cell_type": "code",
      "source": [
        "dataset.head()"
      ],
      "execution_count": 142,
      "outputs": [
        {
          "output_type": "execute_result",
          "data": {
            "text/html": [
              "<div>\n",
              "<style scoped>\n",
              "    .dataframe tbody tr th:only-of-type {\n",
              "        vertical-align: middle;\n",
              "    }\n",
              "\n",
              "    .dataframe tbody tr th {\n",
              "        vertical-align: top;\n",
              "    }\n",
              "\n",
              "    .dataframe thead th {\n",
              "        text-align: right;\n",
              "    }\n",
              "</style>\n",
              "<table border=\"1\" class=\"dataframe\">\n",
              "  <thead>\n",
              "    <tr style=\"text-align: right;\">\n",
              "      <th></th>\n",
              "      <th>Date</th>\n",
              "      <th>Open</th>\n",
              "      <th>High</th>\n",
              "      <th>Low</th>\n",
              "      <th>Close</th>\n",
              "      <th>Volume</th>\n",
              "    </tr>\n",
              "  </thead>\n",
              "  <tbody>\n",
              "    <tr>\n",
              "      <th>0</th>\n",
              "      <td>1/3/2012</td>\n",
              "      <td>325.25</td>\n",
              "      <td>332.83</td>\n",
              "      <td>324.97</td>\n",
              "      <td>663.59</td>\n",
              "      <td>7,380,500</td>\n",
              "    </tr>\n",
              "    <tr>\n",
              "      <th>1</th>\n",
              "      <td>1/4/2012</td>\n",
              "      <td>331.27</td>\n",
              "      <td>333.87</td>\n",
              "      <td>329.08</td>\n",
              "      <td>666.45</td>\n",
              "      <td>5,749,400</td>\n",
              "    </tr>\n",
              "    <tr>\n",
              "      <th>2</th>\n",
              "      <td>1/5/2012</td>\n",
              "      <td>329.83</td>\n",
              "      <td>330.75</td>\n",
              "      <td>326.89</td>\n",
              "      <td>657.21</td>\n",
              "      <td>6,590,300</td>\n",
              "    </tr>\n",
              "    <tr>\n",
              "      <th>3</th>\n",
              "      <td>1/6/2012</td>\n",
              "      <td>328.34</td>\n",
              "      <td>328.77</td>\n",
              "      <td>323.68</td>\n",
              "      <td>648.24</td>\n",
              "      <td>5,405,900</td>\n",
              "    </tr>\n",
              "    <tr>\n",
              "      <th>4</th>\n",
              "      <td>1/9/2012</td>\n",
              "      <td>322.04</td>\n",
              "      <td>322.29</td>\n",
              "      <td>309.46</td>\n",
              "      <td>620.76</td>\n",
              "      <td>11,688,800</td>\n",
              "    </tr>\n",
              "  </tbody>\n",
              "</table>\n",
              "</div>"
            ],
            "text/plain": [
              "       Date    Open    High     Low   Close      Volume\n",
              "0  1/3/2012  325.25  332.83  324.97  663.59   7,380,500\n",
              "1  1/4/2012  331.27  333.87  329.08  666.45   5,749,400\n",
              "2  1/5/2012  329.83  330.75  326.89  657.21   6,590,300\n",
              "3  1/6/2012  328.34  328.77  323.68  648.24   5,405,900\n",
              "4  1/9/2012  322.04  322.29  309.46  620.76  11,688,800"
            ]
          },
          "metadata": {
            "tags": []
          },
          "execution_count": 142
        }
      ]
    },
    {
      "metadata": {
        "id": "7p4p4alk2Bwt",
        "colab_type": "code",
        "colab": {}
      },
      "cell_type": "code",
      "source": [
        "trainingDataset = dataset.iloc[:,1:2].values"
      ],
      "execution_count": 0,
      "outputs": []
    },
    {
      "metadata": {
        "id": "2CMQb1Px2Lw1",
        "colab_type": "code",
        "colab": {}
      },
      "cell_type": "code",
      "source": [
        "from sklearn.preprocessing import MinMaxScaler"
      ],
      "execution_count": 0,
      "outputs": []
    },
    {
      "metadata": {
        "id": "pkGDKbgm2QAx",
        "colab_type": "code",
        "colab": {}
      },
      "cell_type": "code",
      "source": [
        "scaler = MinMaxScaler()"
      ],
      "execution_count": 0,
      "outputs": []
    },
    {
      "metadata": {
        "id": "pxpn_WyQ2T8e",
        "colab_type": "code",
        "colab": {}
      },
      "cell_type": "code",
      "source": [
        "trainingDataset = scaler.fit_transform(trainingDataset)"
      ],
      "execution_count": 0,
      "outputs": []
    },
    {
      "metadata": {
        "id": "2DmSoNBu2Xzb",
        "colab_type": "code",
        "outputId": "561b200f-faba-4a90-a402-a8763338ebdf",
        "colab": {
          "base_uri": "https://localhost:8080/",
          "height": 34
        }
      },
      "cell_type": "code",
      "source": [
        "trainingDataset.shape"
      ],
      "execution_count": 147,
      "outputs": [
        {
          "output_type": "execute_result",
          "data": {
            "text/plain": [
              "(1258, 1)"
            ]
          },
          "metadata": {
            "tags": []
          },
          "execution_count": 147
        }
      ]
    },
    {
      "metadata": {
        "id": "37OMEkiX2ZGw",
        "colab_type": "code",
        "outputId": "3bc8ceb7-6fde-41e9-8683-562c5bc223a2",
        "colab": {
          "base_uri": "https://localhost:8080/",
          "height": 34
        }
      },
      "cell_type": "code",
      "source": [
        "trainingDataset[0]"
      ],
      "execution_count": 148,
      "outputs": [
        {
          "output_type": "execute_result",
          "data": {
            "text/plain": [
              "array([0.08581368])"
            ]
          },
          "metadata": {
            "tags": []
          },
          "execution_count": 148
        }
      ]
    },
    {
      "metadata": {
        "id": "Dlgkxpx02ber",
        "colab_type": "code",
        "outputId": "c1be5e2c-2054-4aca-8764-14e9a7a2ad5e",
        "colab": {
          "base_uri": "https://localhost:8080/",
          "height": 34
        }
      },
      "cell_type": "code",
      "source": [
        "len(trainingDataset)"
      ],
      "execution_count": 149,
      "outputs": [
        {
          "output_type": "execute_result",
          "data": {
            "text/plain": [
              "1258"
            ]
          },
          "metadata": {
            "tags": []
          },
          "execution_count": 149
        }
      ]
    },
    {
      "metadata": {
        "id": "BngHY9br5EYR",
        "colab_type": "code",
        "colab": {}
      },
      "cell_type": "code",
      "source": [
        "X_train = []\n",
        "y_train = []"
      ],
      "execution_count": 0,
      "outputs": []
    },
    {
      "metadata": {
        "id": "dwZK924t5H4F",
        "colab_type": "code",
        "colab": {}
      },
      "cell_type": "code",
      "source": [
        "timestamp = 60\n",
        "for i in range(timestamp,len(trainingDataset)):\n",
        "  X_train.append(trainingDataset[i-timestamp:i,0])\n",
        "  y_train.append(trainingDataset[i,0])"
      ],
      "execution_count": 0,
      "outputs": []
    },
    {
      "metadata": {
        "id": "qnO6vyW85eJb",
        "colab_type": "code",
        "colab": {}
      },
      "cell_type": "code",
      "source": [
        "X_train = np.array(X_train)\n",
        "y_train = np.array(y_train)"
      ],
      "execution_count": 0,
      "outputs": []
    },
    {
      "metadata": {
        "id": "rCYMhoeB5gQl",
        "colab_type": "code",
        "outputId": "4243cd58-f27f-4a2e-af29-ee6c2f6dbbd6",
        "colab": {
          "base_uri": "https://localhost:8080/",
          "height": 34
        }
      },
      "cell_type": "code",
      "source": [
        "X_train.shape"
      ],
      "execution_count": 153,
      "outputs": [
        {
          "output_type": "execute_result",
          "data": {
            "text/plain": [
              "(1198, 60)"
            ]
          },
          "metadata": {
            "tags": []
          },
          "execution_count": 153
        }
      ]
    },
    {
      "metadata": {
        "id": "zFetmjDV5nCQ",
        "colab_type": "code",
        "outputId": "da19b030-c941-4856-80d9-160abd894c6f",
        "colab": {
          "base_uri": "https://localhost:8080/",
          "height": 34
        }
      },
      "cell_type": "code",
      "source": [
        "y_train.shape"
      ],
      "execution_count": 154,
      "outputs": [
        {
          "output_type": "execute_result",
          "data": {
            "text/plain": [
              "(1198,)"
            ]
          },
          "metadata": {
            "tags": []
          },
          "execution_count": 154
        }
      ]
    },
    {
      "metadata": {
        "id": "duUFJUQ15qQC",
        "colab_type": "code",
        "outputId": "ab8664a0-fb55-4cff-fd8d-43aa80ef09a1",
        "colab": {
          "base_uri": "https://localhost:8080/",
          "height": 225
        }
      },
      "cell_type": "code",
      "source": [
        "X_train[0]"
      ],
      "execution_count": 155,
      "outputs": [
        {
          "output_type": "execute_result",
          "data": {
            "text/plain": [
              "array([0.08581368, 0.09701243, 0.09433366, 0.09156187, 0.07984225,\n",
              "       0.0643277 , 0.0585423 , 0.06568569, 0.06109085, 0.06639259,\n",
              "       0.0614257 , 0.07474514, 0.02797827, 0.02379269, 0.02409033,\n",
              "       0.0159238 , 0.01078949, 0.00967334, 0.01642607, 0.02100231,\n",
              "       0.02280676, 0.02273235, 0.02810849, 0.03212665, 0.0433812 ,\n",
              "       0.04475779, 0.04790163, 0.0440695 , 0.04648783, 0.04745517,\n",
              "       0.04873875, 0.03936305, 0.04137213, 0.04034898, 0.04784582,\n",
              "       0.04325099, 0.04356723, 0.04286033, 0.04602277, 0.05398467,\n",
              "       0.05738894, 0.05714711, 0.05569611, 0.04421832, 0.04514845,\n",
              "       0.04605997, 0.04412531, 0.03675869, 0.04486941, 0.05065481,\n",
              "       0.05214302, 0.05612397, 0.05818885, 0.06540665, 0.06882953,\n",
              "       0.07243843, 0.07993526, 0.07846566, 0.08034452, 0.08497656])"
            ]
          },
          "metadata": {
            "tags": []
          },
          "execution_count": 155
        }
      ]
    },
    {
      "metadata": {
        "id": "hQqScH8I5t8s",
        "colab_type": "code",
        "outputId": "cdcfbb08-c172-4928-e2ea-c8dbbc078697",
        "colab": {
          "base_uri": "https://localhost:8080/",
          "height": 34
        }
      },
      "cell_type": "code",
      "source": [
        "y_train[0]"
      ],
      "execution_count": 156,
      "outputs": [
        {
          "output_type": "execute_result",
          "data": {
            "text/plain": [
              "0.08627874097775134"
            ]
          },
          "metadata": {
            "tags": []
          },
          "execution_count": 156
        }
      ]
    },
    {
      "metadata": {
        "id": "IFKxoTK15wtt",
        "colab_type": "code",
        "colab": {}
      },
      "cell_type": "code",
      "source": [
        "X_train = X_train.reshape(X_train.shape[0],X_train.shape[1],1)"
      ],
      "execution_count": 0,
      "outputs": []
    },
    {
      "metadata": {
        "id": "JYfY6YIB8yJ-",
        "colab_type": "code",
        "outputId": "4ab35099-7e81-4ab7-d74f-8280972272c5",
        "colab": {
          "base_uri": "https://localhost:8080/",
          "height": 34
        }
      },
      "cell_type": "code",
      "source": [
        "X_train.shape"
      ],
      "execution_count": 158,
      "outputs": [
        {
          "output_type": "execute_result",
          "data": {
            "text/plain": [
              "(1198, 60, 1)"
            ]
          },
          "metadata": {
            "tags": []
          },
          "execution_count": 158
        }
      ]
    },
    {
      "metadata": {
        "id": "SxeyejTX8zPw",
        "colab_type": "code",
        "colab": {}
      },
      "cell_type": "code",
      "source": [
        "from keras.models import Sequential\n",
        "from keras.layers import LSTM,Dense,Dropout"
      ],
      "execution_count": 0,
      "outputs": []
    },
    {
      "metadata": {
        "id": "s-eXPxSi9g_X",
        "colab_type": "code",
        "colab": {}
      },
      "cell_type": "code",
      "source": [
        "def model():\n",
        "  model = Sequential()\n",
        "  model.add(LSTM(units=50,return_sequences=True,input_shape=(X_train.shape[1],1)))\n",
        "  model.add(Dropout(0.2))\n",
        "  \n",
        "  model.add(LSTM(units=50,return_sequences=True))\n",
        "  model.add(Dropout(0.2))\n",
        "  \n",
        "  model.add(LSTM(units=50,return_sequences=True))\n",
        "  model.add(Dropout(0.2))\n",
        "  \n",
        "  model.add(LSTM(units=50,return_sequences=False))\n",
        "  model.add(Dropout(0.2))\n",
        "  \n",
        "  model.add(Dense(units=1))\n",
        "  \n",
        "  model.compile(optimizer=\"adam\",loss=\"mean_squared_error\")\n",
        "  \n",
        "  return model"
      ],
      "execution_count": 0,
      "outputs": []
    },
    {
      "metadata": {
        "id": "1_pnSsiiR4Gm",
        "colab_type": "code",
        "colab": {}
      },
      "cell_type": "code",
      "source": [
        "model = model()"
      ],
      "execution_count": 0,
      "outputs": []
    },
    {
      "metadata": {
        "id": "dU6ZcohHR6Zk",
        "colab_type": "code",
        "colab": {}
      },
      "cell_type": "code",
      "source": [
        "from keras.utils import plot_model"
      ],
      "execution_count": 0,
      "outputs": []
    },
    {
      "metadata": {
        "id": "l5KJrxp6STvI",
        "colab_type": "code",
        "colab": {}
      },
      "cell_type": "code",
      "source": [
        "modelImage = plot_model(model,to_file=\"model.jpg\")"
      ],
      "execution_count": 0,
      "outputs": []
    },
    {
      "metadata": {
        "id": "ZmaKdCnuSYVW",
        "colab_type": "code",
        "colab": {}
      },
      "cell_type": "code",
      "source": [
        "from keras.preprocessing.image import load_img"
      ],
      "execution_count": 0,
      "outputs": []
    },
    {
      "metadata": {
        "id": "Bke9GzTsSZwg",
        "colab_type": "code",
        "colab": {}
      },
      "cell_type": "code",
      "source": [
        "image = load_img('model.jpg')"
      ],
      "execution_count": 0,
      "outputs": []
    },
    {
      "metadata": {
        "id": "mYxB-p9-SkAI",
        "colab_type": "code",
        "outputId": "135d75e8-fbf9-4de0-b558-acca6f8f1674",
        "colab": {
          "base_uri": "https://localhost:8080/",
          "height": 953
        }
      },
      "cell_type": "code",
      "source": [
        "image"
      ],
      "execution_count": 166,
      "outputs": [
        {
          "output_type": "execute_result",
          "data": {
            "image/png": "[encoded data removed]",
            "text/plain": [
              "<PIL.JpegImagePlugin.JpegImageFile image mode=RGB size=199x936 at 0x7F4A3FDC1358>"
            ]
          },
          "metadata": {
            "tags": []
          },
          "execution_count": 166
        }
      ]
    },
    {
      "metadata": {
        "id": "1hAhOqK0SnHs",
        "colab_type": "code",
        "outputId": "2cc6d452-449f-403f-dd1f-2915af37b786",
        "colab": {
          "base_uri": "https://localhost:8080/",
          "height": 3490
        }
      },
      "cell_type": "code",
      "source": [
        "history =  model.fit(X_train,y_train,batch_size=30,epochs=100)"
      ],
      "execution_count": 167,
      "outputs": [
        {
          "output_type": "stream",
          "text": [
            "Epoch 1/100\n",
            "1198/1198 [==============================] - 10s 8ms/step - loss: 0.0487\n",
            "Epoch 2/100\n",
            "1198/1198 [==============================] - 6s 5ms/step - loss: 0.0057\n",
            "Epoch 3/100\n",
            "1198/1198 [==============================] - 6s 5ms/step - loss: 0.0051\n",
            "Epoch 4/100\n",
            "1198/1198 [==============================] - 7s 6ms/step - loss: 0.0053\n",
            "Epoch 5/100\n",
            "1198/1198 [==============================] - 6s 5ms/step - loss: 0.0046\n",
            "Epoch 6/100\n",
            "1198/1198 [==============================] - 7s 6ms/step - loss: 0.0044\n",
            "Epoch 7/100\n",
            "1198/1198 [==============================] - 7s 6ms/step - loss: 0.0044\n",
            "Epoch 8/100\n",
            "1198/1198 [==============================] - 6s 5ms/step - loss: 0.0053\n",
            "Epoch 9/100\n",
            "1198/1198 [==============================] - 6s 5ms/step - loss: 0.0044\n",
            "Epoch 10/100\n",
            "1198/1198 [==============================] - 6s 5ms/step - loss: 0.0040\n",
            "Epoch 11/100\n",
            "1198/1198 [==============================] - 6s 5ms/step - loss: 0.0041\n",
            "Epoch 12/100\n",
            "1198/1198 [==============================] - 6s 5ms/step - loss: 0.0039\n",
            "Epoch 13/100\n",
            "1198/1198 [==============================] - 6s 5ms/step - loss: 0.0041\n",
            "Epoch 14/100\n",
            "1198/1198 [==============================] - 6s 5ms/step - loss: 0.0045\n",
            "Epoch 15/100\n",
            "1198/1198 [==============================] - 6s 5ms/step - loss: 0.0037\n",
            "Epoch 16/100\n",
            "1198/1198 [==============================] - 6s 5ms/step - loss: 0.0041\n",
            "Epoch 17/100\n",
            "1198/1198 [==============================] - 6s 5ms/step - loss: 0.0035\n",
            "Epoch 18/100\n",
            "1198/1198 [==============================] - 6s 5ms/step - loss: 0.0033\n",
            "Epoch 19/100\n",
            "1198/1198 [==============================] - 6s 5ms/step - loss: 0.0033\n",
            "Epoch 20/100\n",
            "1198/1198 [==============================] - 6s 5ms/step - loss: 0.0036\n",
            "Epoch 21/100\n",
            "1198/1198 [==============================] - 6s 5ms/step - loss: 0.0032\n",
            "Epoch 22/100\n",
            "1198/1198 [==============================] - 6s 5ms/step - loss: 0.0030\n",
            "Epoch 23/100\n",
            "1198/1198 [==============================] - 6s 5ms/step - loss: 0.0035\n",
            "Epoch 24/100\n",
            "1198/1198 [==============================] - 6s 5ms/step - loss: 0.0039\n",
            "Epoch 25/100\n",
            "1198/1198 [==============================] - 6s 5ms/step - loss: 0.0033\n",
            "Epoch 26/100\n",
            "1198/1198 [==============================] - 6s 5ms/step - loss: 0.0029\n",
            "Epoch 27/100\n",
            "1198/1198 [==============================] - 7s 5ms/step - loss: 0.0030\n",
            "Epoch 28/100\n",
            "1198/1198 [==============================] - 6s 5ms/step - loss: 0.0029\n",
            "Epoch 29/100\n",
            "1198/1198 [==============================] - 6s 5ms/step - loss: 0.0027\n",
            "Epoch 30/100\n",
            "1198/1198 [==============================] - 6s 5ms/step - loss: 0.0030\n",
            "Epoch 31/100\n",
            "1198/1198 [==============================] - 6s 5ms/step - loss: 0.0029\n",
            "Epoch 32/100\n",
            "1198/1198 [==============================] - 6s 5ms/step - loss: 0.0026\n",
            "Epoch 33/100\n",
            "1198/1198 [==============================] - 6s 5ms/step - loss: 0.0031\n",
            "Epoch 34/100\n",
            "1198/1198 [==============================] - 6s 5ms/step - loss: 0.0026\n",
            "Epoch 35/100\n",
            "1198/1198 [==============================] - 6s 5ms/step - loss: 0.0027\n",
            "Epoch 36/100\n",
            "1198/1198 [==============================] - 6s 5ms/step - loss: 0.0026\n",
            "Epoch 37/100\n",
            "1198/1198 [==============================] - 6s 5ms/step - loss: 0.0026\n",
            "Epoch 38/100\n",
            "1198/1198 [==============================] - 6s 5ms/step - loss: 0.0025\n",
            "Epoch 39/100\n",
            "1198/1198 [==============================] - 6s 5ms/step - loss: 0.0030\n",
            "Epoch 40/100\n",
            "1198/1198 [==============================] - 6s 5ms/step - loss: 0.0026\n",
            "Epoch 41/100\n",
            "1198/1198 [==============================] - 6s 5ms/step - loss: 0.0024\n",
            "Epoch 42/100\n",
            "1198/1198 [==============================] - 6s 5ms/step - loss: 0.0024\n",
            "Epoch 43/100\n",
            "1198/1198 [==============================] - 6s 5ms/step - loss: 0.0028\n",
            "Epoch 44/100\n",
            "1198/1198 [==============================] - 6s 5ms/step - loss: 0.0025\n",
            "Epoch 45/100\n",
            "1198/1198 [==============================] - 7s 6ms/step - loss: 0.0024\n",
            "Epoch 46/100\n",
            "1198/1198 [==============================] - 6s 5ms/step - loss: 0.0023\n",
            "Epoch 47/100\n",
            "1198/1198 [==============================] - 6s 5ms/step - loss: 0.0023\n",
            "Epoch 48/100\n",
            "1198/1198 [==============================] - 6s 5ms/step - loss: 0.0023\n",
            "Epoch 49/100\n",
            "1198/1198 [==============================] - 6s 5ms/step - loss: 0.0027\n",
            "Epoch 50/100\n",
            "1198/1198 [==============================] - 6s 5ms/step - loss: 0.0021\n",
            "Epoch 51/100\n",
            "1198/1198 [==============================] - 7s 6ms/step - loss: 0.0022\n",
            "Epoch 52/100\n",
            "1198/1198 [==============================] - 6s 5ms/step - loss: 0.0021\n",
            "Epoch 53/100\n",
            "1198/1198 [==============================] - 6s 5ms/step - loss: 0.0024\n",
            "Epoch 54/100\n",
            "1198/1198 [==============================] - 7s 5ms/step - loss: 0.0024\n",
            "Epoch 55/100\n",
            "1198/1198 [==============================] - 7s 6ms/step - loss: 0.0022\n",
            "Epoch 56/100\n",
            "1198/1198 [==============================] - 6s 5ms/step - loss: 0.0021\n",
            "Epoch 57/100\n",
            "1198/1198 [==============================] - 6s 5ms/step - loss: 0.0020\n",
            "Epoch 58/100\n",
            "1198/1198 [==============================] - 6s 5ms/step - loss: 0.0020\n",
            "Epoch 59/100\n",
            "1198/1198 [==============================] - 6s 5ms/step - loss: 0.0021\n",
            "Epoch 60/100\n",
            "1198/1198 [==============================] - 6s 5ms/step - loss: 0.0019\n",
            "Epoch 61/100\n",
            "1198/1198 [==============================] - 6s 5ms/step - loss: 0.0020\n",
            "Epoch 62/100\n",
            "1198/1198 [==============================] - 6s 5ms/step - loss: 0.0019\n",
            "Epoch 63/100\n",
            "1198/1198 [==============================] - 7s 5ms/step - loss: 0.0019\n",
            "Epoch 64/100\n",
            "1198/1198 [==============================] - 7s 5ms/step - loss: 0.0019\n",
            "Epoch 65/100\n",
            "1198/1198 [==============================] - 6s 5ms/step - loss: 0.0019\n",
            "Epoch 66/100\n",
            "1198/1198 [==============================] - 6s 5ms/step - loss: 0.0017\n",
            "Epoch 67/100\n",
            "1198/1198 [==============================] - 6s 5ms/step - loss: 0.0019\n",
            "Epoch 68/100\n",
            "1198/1198 [==============================] - 6s 5ms/step - loss: 0.0020\n",
            "Epoch 69/100\n",
            "1198/1198 [==============================] - 6s 5ms/step - loss: 0.0019\n",
            "Epoch 70/100\n",
            "1198/1198 [==============================] - 6s 5ms/step - loss: 0.0021\n",
            "Epoch 71/100\n",
            "1198/1198 [==============================] - 6s 5ms/step - loss: 0.0019\n",
            "Epoch 72/100\n",
            "1198/1198 [==============================] - 6s 5ms/step - loss: 0.0017\n",
            "Epoch 73/100\n",
            "1198/1198 [==============================] - 6s 5ms/step - loss: 0.0019\n",
            "Epoch 74/100\n",
            "1198/1198 [==============================] - 6s 5ms/step - loss: 0.0016\n",
            "Epoch 75/100\n",
            "1198/1198 [==============================] - 6s 5ms/step - loss: 0.0016\n",
            "Epoch 76/100\n",
            "1198/1198 [==============================] - 6s 5ms/step - loss: 0.0016\n",
            "Epoch 77/100\n",
            "1198/1198 [==============================] - 6s 5ms/step - loss: 0.0017\n",
            "Epoch 78/100\n",
            "1198/1198 [==============================] - 6s 5ms/step - loss: 0.0016\n",
            "Epoch 79/100\n",
            "1198/1198 [==============================] - 6s 5ms/step - loss: 0.0016\n",
            "Epoch 80/100\n",
            "1198/1198 [==============================] - 6s 5ms/step - loss: 0.0016\n",
            "Epoch 81/100\n",
            "1198/1198 [==============================] - 6s 5ms/step - loss: 0.0015\n",
            "Epoch 82/100\n",
            "1198/1198 [==============================] - 6s 5ms/step - loss: 0.0015\n",
            "Epoch 83/100\n",
            "1198/1198 [==============================] - 6s 5ms/step - loss: 0.0014\n",
            "Epoch 84/100\n",
            "1198/1198 [==============================] - 6s 5ms/step - loss: 0.0015\n",
            "Epoch 85/100\n",
            "1198/1198 [==============================] - 6s 5ms/step - loss: 0.0015\n",
            "Epoch 86/100\n",
            "1198/1198 [==============================] - 6s 5ms/step - loss: 0.0014\n",
            "Epoch 87/100\n",
            "1198/1198 [==============================] - 6s 5ms/step - loss: 0.0017\n",
            "Epoch 88/100\n",
            "1198/1198 [==============================] - 6s 5ms/step - loss: 0.0018\n",
            "Epoch 89/100\n",
            "1198/1198 [==============================] - 6s 5ms/step - loss: 0.0014\n",
            "Epoch 90/100\n",
            "1198/1198 [==============================] - 6s 5ms/step - loss: 0.0014\n",
            "Epoch 91/100\n",
            "1198/1198 [==============================] - 6s 5ms/step - loss: 0.0014\n",
            "Epoch 92/100\n",
            "1198/1198 [==============================] - 6s 5ms/step - loss: 0.0015\n",
            "Epoch 93/100\n",
            "1198/1198 [==============================] - 6s 5ms/step - loss: 0.0014\n",
            "Epoch 94/100\n",
            "1198/1198 [==============================] - 6s 5ms/step - loss: 0.0014\n",
            "Epoch 95/100\n",
            "1198/1198 [==============================] - 6s 5ms/step - loss: 0.0014\n",
            "Epoch 96/100\n",
            "1198/1198 [==============================] - 6s 5ms/step - loss: 0.0015\n",
            "Epoch 97/100\n",
            "1198/1198 [==============================] - 6s 5ms/step - loss: 0.0014\n",
            "Epoch 98/100\n",
            "1198/1198 [==============================] - 6s 5ms/step - loss: 0.0013\n",
            "Epoch 99/100\n",
            "1198/1198 [==============================] - 7s 6ms/step - loss: 0.0014\n",
            "Epoch 100/100\n",
            "1198/1198 [==============================] - 6s 5ms/step - loss: 0.0013\n"
          ],
          "name": "stdout"
        }
      ]
    },
    {
      "metadata": {
        "id": "Q6HE4ToyTtbc",
        "colab_type": "code",
        "colab": {}
      },
      "cell_type": "code",
      "source": [
        "# files.upload()"
      ],
      "execution_count": 0,
      "outputs": []
    },
    {
      "metadata": {
        "id": "sjN9lYYsZYVQ",
        "colab_type": "code",
        "colab": {}
      },
      "cell_type": "code",
      "source": [
        "dataset1 = pd.read_csv('Google_Stock_Price_Test.csv')"
      ],
      "execution_count": 0,
      "outputs": []
    },
    {
      "metadata": {
        "id": "sigqyn2EZgy8",
        "colab_type": "code",
        "outputId": "d86029a4-fd64-4e1f-d47d-a73c8c76d871",
        "colab": {
          "base_uri": "https://localhost:8080/",
          "height": 677
        }
      },
      "cell_type": "code",
      "source": [
        "dataset1"
      ],
      "execution_count": 170,
      "outputs": [
        {
          "output_type": "execute_result",
          "data": {
            "text/html": [
              "<div>\n",
              "<style scoped>\n",
              "    .dataframe tbody tr th:only-of-type {\n",
              "        vertical-align: middle;\n",
              "    }\n",
              "\n",
              "    .dataframe tbody tr th {\n",
              "        vertical-align: top;\n",
              "    }\n",
              "\n",
              "    .dataframe thead th {\n",
              "        text-align: right;\n",
              "    }\n",
              "</style>\n",
              "<table border=\"1\" class=\"dataframe\">\n",
              "  <thead>\n",
              "    <tr style=\"text-align: right;\">\n",
              "      <th></th>\n",
              "      <th>Date</th>\n",
              "      <th>Open</th>\n",
              "      <th>High</th>\n",
              "      <th>Low</th>\n",
              "      <th>Close</th>\n",
              "      <th>Volume</th>\n",
              "    </tr>\n",
              "  </thead>\n",
              "  <tbody>\n",
              "    <tr>\n",
              "      <th>0</th>\n",
              "      <td>1/3/2017</td>\n",
              "      <td>778.81</td>\n",
              "      <td>789.63</td>\n",
              "      <td>775.80</td>\n",
              "      <td>786.14</td>\n",
              "      <td>1,657,300</td>\n",
              "    </tr>\n",
              "    <tr>\n",
              "      <th>1</th>\n",
              "      <td>1/4/2017</td>\n",
              "      <td>788.36</td>\n",
              "      <td>791.34</td>\n",
              "      <td>783.16</td>\n",
              "      <td>786.90</td>\n",
              "      <td>1,073,000</td>\n",
              "    </tr>\n",
              "    <tr>\n",
              "      <th>2</th>\n",
              "      <td>1/5/2017</td>\n",
              "      <td>786.08</td>\n",
              "      <td>794.48</td>\n",
              "      <td>785.02</td>\n",
              "      <td>794.02</td>\n",
              "      <td>1,335,200</td>\n",
              "    </tr>\n",
              "    <tr>\n",
              "      <th>3</th>\n",
              "      <td>1/6/2017</td>\n",
              "      <td>795.26</td>\n",
              "      <td>807.90</td>\n",
              "      <td>792.20</td>\n",
              "      <td>806.15</td>\n",
              "      <td>1,640,200</td>\n",
              "    </tr>\n",
              "    <tr>\n",
              "      <th>4</th>\n",
              "      <td>1/9/2017</td>\n",
              "      <td>806.40</td>\n",
              "      <td>809.97</td>\n",
              "      <td>802.83</td>\n",
              "      <td>806.65</td>\n",
              "      <td>1,272,400</td>\n",
              "    </tr>\n",
              "    <tr>\n",
              "      <th>5</th>\n",
              "      <td>1/10/2017</td>\n",
              "      <td>807.86</td>\n",
              "      <td>809.13</td>\n",
              "      <td>803.51</td>\n",
              "      <td>804.79</td>\n",
              "      <td>1,176,800</td>\n",
              "    </tr>\n",
              "    <tr>\n",
              "      <th>6</th>\n",
              "      <td>1/11/2017</td>\n",
              "      <td>805.00</td>\n",
              "      <td>808.15</td>\n",
              "      <td>801.37</td>\n",
              "      <td>807.91</td>\n",
              "      <td>1,065,900</td>\n",
              "    </tr>\n",
              "    <tr>\n",
              "      <th>7</th>\n",
              "      <td>1/12/2017</td>\n",
              "      <td>807.14</td>\n",
              "      <td>807.39</td>\n",
              "      <td>799.17</td>\n",
              "      <td>806.36</td>\n",
              "      <td>1,353,100</td>\n",
              "    </tr>\n",
              "    <tr>\n",
              "      <th>8</th>\n",
              "      <td>1/13/2017</td>\n",
              "      <td>807.48</td>\n",
              "      <td>811.22</td>\n",
              "      <td>806.69</td>\n",
              "      <td>807.88</td>\n",
              "      <td>1,099,200</td>\n",
              "    </tr>\n",
              "    <tr>\n",
              "      <th>9</th>\n",
              "      <td>1/17/2017</td>\n",
              "      <td>807.08</td>\n",
              "      <td>807.14</td>\n",
              "      <td>800.37</td>\n",
              "      <td>804.61</td>\n",
              "      <td>1,362,100</td>\n",
              "    </tr>\n",
              "    <tr>\n",
              "      <th>10</th>\n",
              "      <td>1/18/2017</td>\n",
              "      <td>805.81</td>\n",
              "      <td>806.21</td>\n",
              "      <td>800.99</td>\n",
              "      <td>806.07</td>\n",
              "      <td>1,294,400</td>\n",
              "    </tr>\n",
              "    <tr>\n",
              "      <th>11</th>\n",
              "      <td>1/19/2017</td>\n",
              "      <td>805.12</td>\n",
              "      <td>809.48</td>\n",
              "      <td>801.80</td>\n",
              "      <td>802.17</td>\n",
              "      <td>919,300</td>\n",
              "    </tr>\n",
              "    <tr>\n",
              "      <th>12</th>\n",
              "      <td>1/20/2017</td>\n",
              "      <td>806.91</td>\n",
              "      <td>806.91</td>\n",
              "      <td>801.69</td>\n",
              "      <td>805.02</td>\n",
              "      <td>1,670,000</td>\n",
              "    </tr>\n",
              "    <tr>\n",
              "      <th>13</th>\n",
              "      <td>1/23/2017</td>\n",
              "      <td>807.25</td>\n",
              "      <td>820.87</td>\n",
              "      <td>803.74</td>\n",
              "      <td>819.31</td>\n",
              "      <td>1,963,600</td>\n",
              "    </tr>\n",
              "    <tr>\n",
              "      <th>14</th>\n",
              "      <td>1/24/2017</td>\n",
              "      <td>822.30</td>\n",
              "      <td>825.90</td>\n",
              "      <td>817.82</td>\n",
              "      <td>823.87</td>\n",
              "      <td>1,474,000</td>\n",
              "    </tr>\n",
              "    <tr>\n",
              "      <th>15</th>\n",
              "      <td>1/25/2017</td>\n",
              "      <td>829.62</td>\n",
              "      <td>835.77</td>\n",
              "      <td>825.06</td>\n",
              "      <td>835.67</td>\n",
              "      <td>1,494,500</td>\n",
              "    </tr>\n",
              "    <tr>\n",
              "      <th>16</th>\n",
              "      <td>1/26/2017</td>\n",
              "      <td>837.81</td>\n",
              "      <td>838.00</td>\n",
              "      <td>827.01</td>\n",
              "      <td>832.15</td>\n",
              "      <td>2,973,900</td>\n",
              "    </tr>\n",
              "    <tr>\n",
              "      <th>17</th>\n",
              "      <td>1/27/2017</td>\n",
              "      <td>834.71</td>\n",
              "      <td>841.95</td>\n",
              "      <td>820.44</td>\n",
              "      <td>823.31</td>\n",
              "      <td>2,965,800</td>\n",
              "    </tr>\n",
              "    <tr>\n",
              "      <th>18</th>\n",
              "      <td>1/30/2017</td>\n",
              "      <td>814.66</td>\n",
              "      <td>815.84</td>\n",
              "      <td>799.80</td>\n",
              "      <td>802.32</td>\n",
              "      <td>3,246,600</td>\n",
              "    </tr>\n",
              "    <tr>\n",
              "      <th>19</th>\n",
              "      <td>1/31/2017</td>\n",
              "      <td>796.86</td>\n",
              "      <td>801.25</td>\n",
              "      <td>790.52</td>\n",
              "      <td>796.79</td>\n",
              "      <td>2,160,600</td>\n",
              "    </tr>\n",
              "  </tbody>\n",
              "</table>\n",
              "</div>"
            ],
            "text/plain": [
              "         Date    Open    High     Low   Close     Volume\n",
              "0    1/3/2017  778.81  789.63  775.80  786.14  1,657,300\n",
              "1    1/4/2017  788.36  791.34  783.16  786.90  1,073,000\n",
              "2    1/5/2017  786.08  794.48  785.02  794.02  1,335,200\n",
              "3    1/6/2017  795.26  807.90  792.20  806.15  1,640,200\n",
              "4    1/9/2017  806.40  809.97  802.83  806.65  1,272,400\n",
              "5   1/10/2017  807.86  809.13  803.51  804.79  1,176,800\n",
              "6   1/11/2017  805.00  808.15  801.37  807.91  1,065,900\n",
              "7   1/12/2017  807.14  807.39  799.17  806.36  1,353,100\n",
              "8   1/13/2017  807.48  811.22  806.69  807.88  1,099,200\n",
              "9   1/17/2017  807.08  807.14  800.37  804.61  1,362,100\n",
              "10  1/18/2017  805.81  806.21  800.99  806.07  1,294,400\n",
              "11  1/19/2017  805.12  809.48  801.80  802.17    919,300\n",
              "12  1/20/2017  806.91  806.91  801.69  805.02  1,670,000\n",
              "13  1/23/2017  807.25  820.87  803.74  819.31  1,963,600\n",
              "14  1/24/2017  822.30  825.90  817.82  823.87  1,474,000\n",
              "15  1/25/2017  829.62  835.77  825.06  835.67  1,494,500\n",
              "16  1/26/2017  837.81  838.00  827.01  832.15  2,973,900\n",
              "17  1/27/2017  834.71  841.95  820.44  823.31  2,965,800\n",
              "18  1/30/2017  814.66  815.84  799.80  802.32  3,246,600\n",
              "19  1/31/2017  796.86  801.25  790.52  796.79  2,160,600"
            ]
          },
          "metadata": {
            "tags": []
          },
          "execution_count": 170
        }
      ]
    },
    {
      "metadata": {
        "id": "PbIIUBWZZicL",
        "colab_type": "code",
        "colab": {}
      },
      "cell_type": "code",
      "source": [
        "testingDataset = dataset1.iloc[:,1:2].values"
      ],
      "execution_count": 0,
      "outputs": []
    },
    {
      "metadata": {
        "id": "B2gk6eD2ZqjA",
        "colab_type": "code",
        "outputId": "35283c6c-863a-4023-ecb5-f587fd00ede9",
        "colab": {
          "base_uri": "https://localhost:8080/",
          "height": 364
        }
      },
      "cell_type": "code",
      "source": [
        "testingDataset"
      ],
      "execution_count": 172,
      "outputs": [
        {
          "output_type": "execute_result",
          "data": {
            "text/plain": [
              "array([[778.81],\n",
              "       [788.36],\n",
              "       [786.08],\n",
              "       [795.26],\n",
              "       [806.4 ],\n",
              "       [807.86],\n",
              "       [805.  ],\n",
              "       [807.14],\n",
              "       [807.48],\n",
              "       [807.08],\n",
              "       [805.81],\n",
              "       [805.12],\n",
              "       [806.91],\n",
              "       [807.25],\n",
              "       [822.3 ],\n",
              "       [829.62],\n",
              "       [837.81],\n",
              "       [834.71],\n",
              "       [814.66],\n",
              "       [796.86]])"
            ]
          },
          "metadata": {
            "tags": []
          },
          "execution_count": 172
        }
      ]
    },
    {
      "metadata": {
        "id": "INFDAyxHZrkK",
        "colab_type": "code",
        "colab": {}
      },
      "cell_type": "code",
      "source": [
        "# Preparing Data According To Model Input"
      ],
      "execution_count": 0,
      "outputs": []
    },
    {
      "metadata": {
        "id": "xLHq0Z6VHWLq",
        "colab_type": "code",
        "colab": {}
      },
      "cell_type": "code",
      "source": [
        "totalDataset = pd.concat((dataset['Open'],dataset1['Open']),axis=0)"
      ],
      "execution_count": 0,
      "outputs": []
    },
    {
      "metadata": {
        "id": "7V_yNAZyHec1",
        "colab_type": "code",
        "outputId": "25643346-1da1-45b4-d5c5-50be4c23a2c6",
        "colab": {
          "base_uri": "https://localhost:8080/",
          "height": 121
        }
      },
      "cell_type": "code",
      "source": [
        "totalDataset.head()"
      ],
      "execution_count": 175,
      "outputs": [
        {
          "output_type": "execute_result",
          "data": {
            "text/plain": [
              "0    325.25\n",
              "1    331.27\n",
              "2    329.83\n",
              "3    328.34\n",
              "4    322.04\n",
              "Name: Open, dtype: float64"
            ]
          },
          "metadata": {
            "tags": []
          },
          "execution_count": 175
        }
      ]
    },
    {
      "metadata": {
        "id": "FoMHjI_wHkx7",
        "colab_type": "code",
        "outputId": "8fb94c03-a594-476f-d093-e68c6301064d",
        "colab": {
          "base_uri": "https://localhost:8080/",
          "height": 121
        }
      },
      "cell_type": "code",
      "source": [
        "totalDataset.tail()"
      ],
      "execution_count": 176,
      "outputs": [
        {
          "output_type": "execute_result",
          "data": {
            "text/plain": [
              "15    829.62\n",
              "16    837.81\n",
              "17    834.71\n",
              "18    814.66\n",
              "19    796.86\n",
              "Name: Open, dtype: float64"
            ]
          },
          "metadata": {
            "tags": []
          },
          "execution_count": 176
        }
      ]
    },
    {
      "metadata": {
        "id": "1OTniFAkHo5F",
        "colab_type": "code",
        "colab": {}
      },
      "cell_type": "code",
      "source": [
        "X_test = totalDataset[len(totalDataset)-len(dataset1)-60:].values"
      ],
      "execution_count": 0,
      "outputs": []
    },
    {
      "metadata": {
        "id": "rNn_Pa3JIt7e",
        "colab_type": "code",
        "colab": {}
      },
      "cell_type": "code",
      "source": [
        "inputs = X_test.reshape(-1,1)"
      ],
      "execution_count": 0,
      "outputs": []
    },
    {
      "metadata": {
        "id": "DZokWye6Iuyl",
        "colab_type": "code",
        "outputId": "4eb5a0ed-7400-4bbc-f825-5f54fb980bef",
        "colab": {
          "base_uri": "https://localhost:8080/",
          "height": 34
        }
      },
      "cell_type": "code",
      "source": [
        "inputs.shape"
      ],
      "execution_count": 179,
      "outputs": [
        {
          "output_type": "execute_result",
          "data": {
            "text/plain": [
              "(80, 1)"
            ]
          },
          "metadata": {
            "tags": []
          },
          "execution_count": 179
        }
      ]
    },
    {
      "metadata": {
        "id": "0rIzudM0I21j",
        "colab_type": "code",
        "colab": {}
      },
      "cell_type": "code",
      "source": [
        "inputs = scaler.transform(inputs)"
      ],
      "execution_count": 0,
      "outputs": []
    },
    {
      "metadata": {
        "id": "1wOfdFCWI8nM",
        "colab_type": "code",
        "outputId": "2433619a-5da9-4f13-e0d8-bbddf7c85693",
        "colab": {
          "base_uri": "https://localhost:8080/",
          "height": 34
        }
      },
      "cell_type": "code",
      "source": [
        "len(inputs)"
      ],
      "execution_count": 181,
      "outputs": [
        {
          "output_type": "execute_result",
          "data": {
            "text/plain": [
              "80"
            ]
          },
          "metadata": {
            "tags": []
          },
          "execution_count": 181
        }
      ]
    },
    {
      "metadata": {
        "id": "_3yiwqWgI-C2",
        "colab_type": "code",
        "colab": {
          "base_uri": "https://localhost:8080/",
          "height": 34
        },
        "outputId": "0906a5d3-f190-4997-96ff-4994a704b97e"
      },
      "cell_type": "code",
      "source": [
        "X_test = []\n",
        "for i in range(timestamp,len(inputs)):\n",
        "  X_test.append(inputs[i-timestamp:i,0])\n",
        "X_test = np.array(X_test)\n",
        "X_test.shape"
      ],
      "execution_count": 182,
      "outputs": [
        {
          "output_type": "execute_result",
          "data": {
            "text/plain": [
              "(20, 60)"
            ]
          },
          "metadata": {
            "tags": []
          },
          "execution_count": 182
        }
      ]
    },
    {
      "metadata": {
        "id": "J5vuMV0qKrAG",
        "colab_type": "code",
        "colab": {}
      },
      "cell_type": "code",
      "source": [
        "X_test = X_test.reshape(X_test.shape[0],X_test.shape[1],1)"
      ],
      "execution_count": 0,
      "outputs": []
    },
    {
      "metadata": {
        "id": "hzjOFO_TKsPw",
        "colab_type": "code",
        "outputId": "1917d406-1ade-44af-c2bb-6f836c29414a",
        "colab": {
          "base_uri": "https://localhost:8080/",
          "height": 34
        }
      },
      "cell_type": "code",
      "source": [
        "X_test.shape"
      ],
      "execution_count": 184,
      "outputs": [
        {
          "output_type": "execute_result",
          "data": {
            "text/plain": [
              "(20, 60, 1)"
            ]
          },
          "metadata": {
            "tags": []
          },
          "execution_count": 184
        }
      ]
    },
    {
      "metadata": {
        "id": "CBq89IowLZ0J",
        "colab_type": "code",
        "colab": {}
      },
      "cell_type": "code",
      "source": [
        "prediction = model.predict(X_test)"
      ],
      "execution_count": 0,
      "outputs": []
    },
    {
      "metadata": {
        "id": "jYv53RgSLiDp",
        "colab_type": "code",
        "colab": {}
      },
      "cell_type": "code",
      "source": [
        "prediction = scaler.inverse_transform(prediction)"
      ],
      "execution_count": 0,
      "outputs": []
    },
    {
      "metadata": {
        "id": "SyyKCnCCLpYa",
        "colab_type": "code",
        "outputId": "69015bfd-db5c-4276-c7ae-d136e2fea34b",
        "colab": {
          "base_uri": "https://localhost:8080/",
          "height": 364
        }
      },
      "cell_type": "code",
      "source": [
        "prediction"
      ],
      "execution_count": 187,
      "outputs": [
        {
          "output_type": "execute_result",
          "data": {
            "text/plain": [
              "array([[781.7937 ],\n",
              "       [779.1218 ],\n",
              "       [780.1358 ],\n",
              "       [781.7824 ],\n",
              "       [785.0462 ],\n",
              "       [790.8546 ],\n",
              "       [795.6443 ],\n",
              "       [796.904  ],\n",
              "       [797.02216],\n",
              "       [797.31647],\n",
              "       [797.7359 ],\n",
              "       [797.8276 ],\n",
              "       [797.72394],\n",
              "       [798.3055 ],\n",
              "       [799.2021 ],\n",
              "       [804.2173 ],\n",
              "       [811.12244],\n",
              "       [817.82733],\n",
              "       [820.6059 ],\n",
              "       [815.0647 ]], dtype=float32)"
            ]
          },
          "metadata": {
            "tags": []
          },
          "execution_count": 187
        }
      ]
    },
    {
      "metadata": {
        "id": "oDrdINUiLrv5",
        "colab_type": "code",
        "outputId": "307e5658-4fff-4173-8872-c0432ad1b883",
        "colab": {
          "base_uri": "https://localhost:8080/",
          "height": 497
        }
      },
      "cell_type": "code",
      "source": [
        "plt.figure(figsize=(15,8))\n",
        "plt.plot(prediction,label=\"Predicted Stock Prices\",color=\"red\")\n",
        "plt.plot(dataset1['Open'].values,label=\"Original Stock Prices\",color=\"blue\")\n",
        "plt.xlabel(\"Time\")\n",
        "plt.ylabel(\"Stock Prices\")\n",
        "plt.xticks(np.arange(20))\n",
        "plt.legend()\n",
        "plt.show()"
      ],
      "execution_count": 190,
      "outputs": [
        {
          "output_type": "display_data",
          "data": {
            "image/png": "[encoded data removed]",
            "text/plain": [
              "<Figure size 1080x576 with 1 Axes>"
            ]
          },
          "metadata": {
            "tags": []
          }
        }
      ]
    },
    {
      "metadata": {
        "id": "a9o9gsEpLyyy",
        "colab_type": "code",
        "colab": {
          "base_uri": "https://localhost:8080/",
          "height": 34
        },
        "outputId": "a824dccf-63a2-4cbe-c27a-286022584c65"
      },
      "cell_type": "code",
      "source": [
        "\"\""
      ],
      "execution_count": 189,
      "outputs": [
        {
          "output_type": "execute_result",
          "data": {
            "text/plain": [
              "''"
            ]
          },
          "metadata": {
            "tags": []
          },
          "execution_count": 189
        }
      ]
    }
  ]
}