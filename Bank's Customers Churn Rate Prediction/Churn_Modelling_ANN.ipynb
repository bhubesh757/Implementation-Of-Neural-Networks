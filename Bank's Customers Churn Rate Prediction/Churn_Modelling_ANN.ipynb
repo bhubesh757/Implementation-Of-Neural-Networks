{
  "nbformat": 4,
  "nbformat_minor": 0,
  "metadata": {
    "colab": {
      "name": "Churn Modelling ANN.ipynb",
      "version": "0.3.2",
      "provenance": [],
      "collapsed_sections": []
    },
    "kernelspec": {
      "name": "python3",
      "display_name": "Python 3"
    },
    "accelerator": "GPU"
  },
  "cells": [
    {
      "metadata": {
        "id": "APfWlsmspxU7",
        "colab_type": "code",
        "colab": {}
      },
      "cell_type": "code",
      "source": [
        "import matplotlib.pyplot as plt\n",
        "import pandas as pd\n",
        "import numpy as np"
      ],
      "execution_count": 0,
      "outputs": []
    },
    {
      "metadata": {
        "id": "JEbrAgzhqfyp",
        "colab_type": "code",
        "colab": {}
      },
      "cell_type": "code",
      "source": [
        "dataset = pd.read_csv(\"Churn_Modelling.csv\")"
      ],
      "execution_count": 0,
      "outputs": []
    },
    {
      "metadata": {
        "id": "UTAGzYw7HUup",
        "colab_type": "code",
        "outputId": "12bcfb21-cf06-4314-dfb3-3fca670dcad6",
        "colab": {
          "base_uri": "https://localhost:8080/",
          "height": 226
        }
      },
      "cell_type": "code",
      "source": [
        "dataset.head()"
      ],
      "execution_count": 0,
      "outputs": [
        {
          "output_type": "execute_result",
          "data": {
            "text/html": [
              "<div>\n",
              "<style scoped>\n",
              "    .dataframe tbody tr th:only-of-type {\n",
              "        vertical-align: middle;\n",
              "    }\n",
              "\n",
              "    .dataframe tbody tr th {\n",
              "        vertical-align: top;\n",
              "    }\n",
              "\n",
              "    .dataframe thead th {\n",
              "        text-align: right;\n",
              "    }\n",
              "</style>\n",
              "<table border=\"1\" class=\"dataframe\">\n",
              "  <thead>\n",
              "    <tr style=\"text-align: right;\">\n",
              "      <th></th>\n",
              "      <th>RowNumber</th>\n",
              "      <th>CustomerId</th>\n",
              "      <th>Surname</th>\n",
              "      <th>CreditScore</th>\n",
              "      <th>Geography</th>\n",
              "      <th>Gender</th>\n",
              "      <th>Age</th>\n",
              "      <th>Tenure</th>\n",
              "      <th>Balance</th>\n",
              "      <th>NumOfProducts</th>\n",
              "      <th>HasCrCard</th>\n",
              "      <th>IsActiveMember</th>\n",
              "      <th>EstimatedSalary</th>\n",
              "      <th>Exited</th>\n",
              "    </tr>\n",
              "  </thead>\n",
              "  <tbody>\n",
              "    <tr>\n",
              "      <th>0</th>\n",
              "      <td>1</td>\n",
              "      <td>15634602</td>\n",
              "      <td>Hargrave</td>\n",
              "      <td>619</td>\n",
              "      <td>France</td>\n",
              "      <td>Female</td>\n",
              "      <td>42</td>\n",
              "      <td>2</td>\n",
              "      <td>0.00</td>\n",
              "      <td>1</td>\n",
              "      <td>1</td>\n",
              "      <td>1</td>\n",
              "      <td>101348.88</td>\n",
              "      <td>1</td>\n",
              "    </tr>\n",
              "    <tr>\n",
              "      <th>1</th>\n",
              "      <td>2</td>\n",
              "      <td>15647311</td>\n",
              "      <td>Hill</td>\n",
              "      <td>608</td>\n",
              "      <td>Spain</td>\n",
              "      <td>Female</td>\n",
              "      <td>41</td>\n",
              "      <td>1</td>\n",
              "      <td>83807.86</td>\n",
              "      <td>1</td>\n",
              "      <td>0</td>\n",
              "      <td>1</td>\n",
              "      <td>112542.58</td>\n",
              "      <td>0</td>\n",
              "    </tr>\n",
              "    <tr>\n",
              "      <th>2</th>\n",
              "      <td>3</td>\n",
              "      <td>15619304</td>\n",
              "      <td>Onio</td>\n",
              "      <td>502</td>\n",
              "      <td>France</td>\n",
              "      <td>Female</td>\n",
              "      <td>42</td>\n",
              "      <td>8</td>\n",
              "      <td>159660.80</td>\n",
              "      <td>3</td>\n",
              "      <td>1</td>\n",
              "      <td>0</td>\n",
              "      <td>113931.57</td>\n",
              "      <td>1</td>\n",
              "    </tr>\n",
              "    <tr>\n",
              "      <th>3</th>\n",
              "      <td>4</td>\n",
              "      <td>15701354</td>\n",
              "      <td>Boni</td>\n",
              "      <td>699</td>\n",
              "      <td>France</td>\n",
              "      <td>Female</td>\n",
              "      <td>39</td>\n",
              "      <td>1</td>\n",
              "      <td>0.00</td>\n",
              "      <td>2</td>\n",
              "      <td>0</td>\n",
              "      <td>0</td>\n",
              "      <td>93826.63</td>\n",
              "      <td>0</td>\n",
              "    </tr>\n",
              "    <tr>\n",
              "      <th>4</th>\n",
              "      <td>5</td>\n",
              "      <td>15737888</td>\n",
              "      <td>Mitchell</td>\n",
              "      <td>850</td>\n",
              "      <td>Spain</td>\n",
              "      <td>Female</td>\n",
              "      <td>43</td>\n",
              "      <td>2</td>\n",
              "      <td>125510.82</td>\n",
              "      <td>1</td>\n",
              "      <td>1</td>\n",
              "      <td>1</td>\n",
              "      <td>79084.10</td>\n",
              "      <td>0</td>\n",
              "    </tr>\n",
              "  </tbody>\n",
              "</table>\n",
              "</div>"
            ],
            "text/plain": [
              "   RowNumber  CustomerId   Surname  CreditScore Geography  Gender  Age  \\\n",
              "0          1    15634602  Hargrave          619    France  Female   42   \n",
              "1          2    15647311      Hill          608     Spain  Female   41   \n",
              "2          3    15619304      Onio          502    France  Female   42   \n",
              "3          4    15701354      Boni          699    France  Female   39   \n",
              "4          5    15737888  Mitchell          850     Spain  Female   43   \n",
              "\n",
              "   Tenure    Balance  NumOfProducts  HasCrCard  IsActiveMember  \\\n",
              "0       2       0.00              1          1               1   \n",
              "1       1   83807.86              1          0               1   \n",
              "2       8  159660.80              3          1               0   \n",
              "3       1       0.00              2          0               0   \n",
              "4       2  125510.82              1          1               1   \n",
              "\n",
              "   EstimatedSalary  Exited  \n",
              "0        101348.88       1  \n",
              "1        112542.58       0  \n",
              "2        113931.57       1  \n",
              "3         93826.63       0  \n",
              "4         79084.10       0  "
            ]
          },
          "metadata": {
            "tags": []
          },
          "execution_count": 5
        }
      ]
    },
    {
      "metadata": {
        "id": "tMnoMAp5HcxT",
        "colab_type": "code",
        "colab": {}
      },
      "cell_type": "code",
      "source": [
        "X = dataset.iloc[:,3:13].values"
      ],
      "execution_count": 0,
      "outputs": []
    },
    {
      "metadata": {
        "id": "vls4suhQHrx8",
        "colab_type": "code",
        "outputId": "12f03acc-b1a5-44e4-d8d4-2924e93b1922",
        "colab": {
          "base_uri": "https://localhost:8080/",
          "height": 34
        }
      },
      "cell_type": "code",
      "source": [
        "X.shape"
      ],
      "execution_count": 0,
      "outputs": [
        {
          "output_type": "execute_result",
          "data": {
            "text/plain": [
              "(10000, 10)"
            ]
          },
          "metadata": {
            "tags": []
          },
          "execution_count": 7
        }
      ]
    },
    {
      "metadata": {
        "id": "tuBuXQimHsl7",
        "colab_type": "code",
        "colab": {}
      },
      "cell_type": "code",
      "source": [
        "y = dataset.iloc[:,-1].values"
      ],
      "execution_count": 0,
      "outputs": []
    },
    {
      "metadata": {
        "id": "bmbOe3UUH0rq",
        "colab_type": "code",
        "colab": {}
      },
      "cell_type": "code",
      "source": [
        "from sklearn.preprocessing import LabelEncoder,OneHotEncoder"
      ],
      "execution_count": 0,
      "outputs": []
    },
    {
      "metadata": {
        "id": "JXfPnRwZH8f1",
        "colab_type": "code",
        "colab": {}
      },
      "cell_type": "code",
      "source": [
        "labelEncoderCountry = LabelEncoder()"
      ],
      "execution_count": 0,
      "outputs": []
    },
    {
      "metadata": {
        "id": "l-N8ZUTDIAUg",
        "colab_type": "code",
        "colab": {}
      },
      "cell_type": "code",
      "source": [
        "X[:,1] = labelEncoderCountry.fit_transform(X[:,1])"
      ],
      "execution_count": 0,
      "outputs": []
    },
    {
      "metadata": {
        "id": "SaGk1tJWINYf",
        "colab_type": "code",
        "colab": {}
      },
      "cell_type": "code",
      "source": [
        "labelEncoderGender = LabelEncoder()"
      ],
      "execution_count": 0,
      "outputs": []
    },
    {
      "metadata": {
        "id": "7iGZqFx-IosB",
        "colab_type": "code",
        "colab": {}
      },
      "cell_type": "code",
      "source": [
        "X[:,2] = labelEncoderGender.fit_transform(X[:,2])"
      ],
      "execution_count": 0,
      "outputs": []
    },
    {
      "metadata": {
        "id": "S9lqIBcBIuOl",
        "colab_type": "code",
        "colab": {}
      },
      "cell_type": "code",
      "source": [
        "oneHotEncoder = OneHotEncoder(categorical_features=[1])"
      ],
      "execution_count": 0,
      "outputs": []
    },
    {
      "metadata": {
        "id": "DEbh9mLXIw4M",
        "colab_type": "code",
        "outputId": "263ec44b-8939-4abb-c062-6674b105967b",
        "colab": {
          "base_uri": "https://localhost:8080/",
          "height": 141
        }
      },
      "cell_type": "code",
      "source": [
        "X = oneHotEncoder.fit_transform(X).toarray()"
      ],
      "execution_count": 0,
      "outputs": [
        {
          "output_type": "stream",
          "text": [
            "/usr/local/lib/python3.6/dist-packages/sklearn/preprocessing/_encoders.py:371: FutureWarning: The handling of integer data will change in version 0.22. Currently, the categories are determined based on the range [0, max(values)], while in the future they will be determined based on the unique values.\n",
            "If you want the future behaviour and silence this warning, you can specify \"categories='auto'\".\n",
            "In case you used a LabelEncoder before this OneHotEncoder to convert the categories to integers, then you can now use the OneHotEncoder directly.\n",
            "  warnings.warn(msg, FutureWarning)\n",
            "/usr/local/lib/python3.6/dist-packages/sklearn/preprocessing/_encoders.py:392: DeprecationWarning: The 'categorical_features' keyword is deprecated in version 0.20 and will be removed in 0.22. You can use the ColumnTransformer instead.\n",
            "  \"use the ColumnTransformer instead.\", DeprecationWarning)\n"
          ],
          "name": "stderr"
        }
      ]
    },
    {
      "metadata": {
        "id": "6t-kBCTXJGZd",
        "colab_type": "code",
        "outputId": "2068c74d-faab-4933-aa4e-9aaab9d0b019",
        "colab": {
          "base_uri": "https://localhost:8080/",
          "height": 34
        }
      },
      "cell_type": "code",
      "source": [
        "X.shape"
      ],
      "execution_count": 0,
      "outputs": [
        {
          "output_type": "execute_result",
          "data": {
            "text/plain": [
              "(10000, 12)"
            ]
          },
          "metadata": {
            "tags": []
          },
          "execution_count": 16
        }
      ]
    },
    {
      "metadata": {
        "id": "jDdaEx4AJIVF",
        "colab_type": "code",
        "colab": {}
      },
      "cell_type": "code",
      "source": [
        "X = X[:,1:]"
      ],
      "execution_count": 0,
      "outputs": []
    },
    {
      "metadata": {
        "id": "0WDn5x67JsVf",
        "colab_type": "code",
        "outputId": "59bb9698-ccc4-4864-c75d-70c488d4418a",
        "colab": {
          "base_uri": "https://localhost:8080/",
          "height": 34
        }
      },
      "cell_type": "code",
      "source": [
        "X.shape"
      ],
      "execution_count": 0,
      "outputs": [
        {
          "output_type": "execute_result",
          "data": {
            "text/plain": [
              "(10000, 11)"
            ]
          },
          "metadata": {
            "tags": []
          },
          "execution_count": 18
        }
      ]
    },
    {
      "metadata": {
        "id": "QjCg5b-tJtdK",
        "colab_type": "code",
        "colab": {}
      },
      "cell_type": "code",
      "source": [
        "from sklearn.model_selection import train_test_split"
      ],
      "execution_count": 0,
      "outputs": []
    },
    {
      "metadata": {
        "id": "U3CC1nTPJyfJ",
        "colab_type": "code",
        "colab": {}
      },
      "cell_type": "code",
      "source": [
        "X_train,X_test,y_train,y_test = train_test_split(X,y,test_size=0.2,random_state=0)"
      ],
      "execution_count": 0,
      "outputs": []
    },
    {
      "metadata": {
        "id": "RUEXKbxeO5Tj",
        "colab_type": "code",
        "colab": {}
      },
      "cell_type": "code",
      "source": [
        "from sklearn.preprocessing import StandardScaler\n",
        "scaler = StandardScaler()\n",
        "X_train = scaler.fit_transform(X_train)\n",
        "X_test = scaler.transform(X_test)"
      ],
      "execution_count": 0,
      "outputs": []
    },
    {
      "metadata": {
        "id": "F8OGN9DPJ56f",
        "colab_type": "code",
        "outputId": "08b8b65f-8d8a-4fe3-942e-55f466fe9b3c",
        "colab": {
          "base_uri": "https://localhost:8080/",
          "height": 34
        }
      },
      "cell_type": "code",
      "source": [
        "from keras.layers import Dense\n",
        "from keras.models import Sequential"
      ],
      "execution_count": 0,
      "outputs": [
        {
          "output_type": "stream",
          "text": [
            "Using TensorFlow backend.\n"
          ],
          "name": "stderr"
        }
      ]
    },
    {
      "metadata": {
        "id": "0hn82ZSDJ_ZZ",
        "colab_type": "code",
        "colab": {}
      },
      "cell_type": "code",
      "source": [
        "def model():\n",
        "  model = Sequential()\n",
        "  model.add(Dense(output_dim=6,input_dim=11,init=\"uniform\",activation=\"relu\"))\n",
        "  model.add(Dense(output_dim=6,init=\"uniform\",activation=\"relu\"))\n",
        "  model.add(Dense(output_dim=1,init=\"uniform\",activation=\"sigmoid\"))\n",
        "  model.compile(optimizer=\"adam\",loss=\"binary_crossentropy\",metrics=['accuracy'])\n",
        "  return model"
      ],
      "execution_count": 0,
      "outputs": []
    },
    {
      "metadata": {
        "id": "AMDJ26uJKjyo",
        "colab_type": "code",
        "outputId": "31ae038d-4364-4332-a374-d0bbab15d028",
        "colab": {
          "base_uri": "https://localhost:8080/",
          "height": 193
        }
      },
      "cell_type": "code",
      "source": [
        "classifier = model()"
      ],
      "execution_count": 0,
      "outputs": [
        {
          "output_type": "stream",
          "text": [
            "WARNING:tensorflow:From /usr/local/lib/python3.6/dist-packages/tensorflow/python/framework/op_def_library.py:263: colocate_with (from tensorflow.python.framework.ops) is deprecated and will be removed in a future version.\n",
            "Instructions for updating:\n",
            "Colocations handled automatically by placer.\n"
          ],
          "name": "stdout"
        },
        {
          "output_type": "stream",
          "text": [
            "/usr/local/lib/python3.6/dist-packages/ipykernel_launcher.py:3: UserWarning: Update your `Dense` call to the Keras 2 API: `Dense(input_dim=11, activation=\"relu\", units=6, kernel_initializer=\"uniform\")`\n",
            "  This is separate from the ipykernel package so we can avoid doing imports until\n",
            "/usr/local/lib/python3.6/dist-packages/ipykernel_launcher.py:4: UserWarning: Update your `Dense` call to the Keras 2 API: `Dense(activation=\"relu\", units=6, kernel_initializer=\"uniform\")`\n",
            "  after removing the cwd from sys.path.\n",
            "/usr/local/lib/python3.6/dist-packages/ipykernel_launcher.py:5: UserWarning: Update your `Dense` call to the Keras 2 API: `Dense(activation=\"sigmoid\", units=1, kernel_initializer=\"uniform\")`\n",
            "  \"\"\"\n"
          ],
          "name": "stderr"
        }
      ]
    },
    {
      "metadata": {
        "id": "ZLeS5JaxKmo2",
        "colab_type": "code",
        "outputId": "359cebc6-e010-47b5-a231-0b13f360327d",
        "colab": {
          "base_uri": "https://localhost:8080/",
          "height": 1826
        }
      },
      "cell_type": "code",
      "source": [
        "history = classifier.fit(X_train,y_train,epochs=50,batch_size=10)"
      ],
      "execution_count": 0,
      "outputs": [
        {
          "output_type": "stream",
          "text": [
            "WARNING:tensorflow:From /usr/local/lib/python3.6/dist-packages/tensorflow/python/ops/math_ops.py:3066: to_int32 (from tensorflow.python.ops.math_ops) is deprecated and will be removed in a future version.\n",
            "Instructions for updating:\n",
            "Use tf.cast instead.\n",
            "Epoch 1/50\n",
            "8000/8000 [==============================] - 7s 835us/step - loss: 0.4985 - acc: 0.7950\n",
            "Epoch 2/50\n",
            "8000/8000 [==============================] - 4s 520us/step - loss: 0.4281 - acc: 0.7960\n",
            "Epoch 3/50\n",
            "8000/8000 [==============================] - 4s 544us/step - loss: 0.4214 - acc: 0.8037\n",
            "Epoch 4/50\n",
            "8000/8000 [==============================] - 4s 496us/step - loss: 0.4150 - acc: 0.8289\n",
            "Epoch 5/50\n",
            "8000/8000 [==============================] - 4s 493us/step - loss: 0.4105 - acc: 0.8300\n",
            "Epoch 6/50\n",
            "8000/8000 [==============================] - 4s 492us/step - loss: 0.4068 - acc: 0.8344\n",
            "Epoch 7/50\n",
            "8000/8000 [==============================] - 4s 493us/step - loss: 0.4048 - acc: 0.8355\n",
            "Epoch 8/50\n",
            "8000/8000 [==============================] - 4s 486us/step - loss: 0.4029 - acc: 0.8345\n",
            "Epoch 9/50\n",
            "8000/8000 [==============================] - 4s 486us/step - loss: 0.4014 - acc: 0.8369\n",
            "Epoch 10/50\n",
            "8000/8000 [==============================] - 4s 485us/step - loss: 0.4007 - acc: 0.8371\n",
            "Epoch 11/50\n",
            "8000/8000 [==============================] - 4s 496us/step - loss: 0.3999 - acc: 0.8349\n",
            "Epoch 12/50\n",
            "8000/8000 [==============================] - 4s 500us/step - loss: 0.3994 - acc: 0.8359\n",
            "Epoch 13/50\n",
            "8000/8000 [==============================] - 4s 500us/step - loss: 0.3987 - acc: 0.8356\n",
            "Epoch 14/50\n",
            "8000/8000 [==============================] - 4s 516us/step - loss: 0.3979 - acc: 0.8346\n",
            "Epoch 15/50\n",
            "8000/8000 [==============================] - 4s 522us/step - loss: 0.3981 - acc: 0.8361\n",
            "Epoch 16/50\n",
            "8000/8000 [==============================] - 4s 504us/step - loss: 0.3975 - acc: 0.8342\n",
            "Epoch 17/50\n",
            "8000/8000 [==============================] - 4s 510us/step - loss: 0.3969 - acc: 0.8351\n",
            "Epoch 18/50\n",
            "8000/8000 [==============================] - 4s 512us/step - loss: 0.3970 - acc: 0.8356\n",
            "Epoch 19/50\n",
            "8000/8000 [==============================] - 4s 506us/step - loss: 0.3968 - acc: 0.8349\n",
            "Epoch 20/50\n",
            "8000/8000 [==============================] - 4s 514us/step - loss: 0.3966 - acc: 0.8361\n",
            "Epoch 21/50\n",
            "8000/8000 [==============================] - 4s 521us/step - loss: 0.3964 - acc: 0.8349\n",
            "Epoch 22/50\n",
            "8000/8000 [==============================] - 4s 539us/step - loss: 0.3963 - acc: 0.8377\n",
            "Epoch 23/50\n",
            "8000/8000 [==============================] - 4s 507us/step - loss: 0.3963 - acc: 0.8341\n",
            "Epoch 24/50\n",
            "8000/8000 [==============================] - 4s 509us/step - loss: 0.3961 - acc: 0.8351\n",
            "Epoch 25/50\n",
            "8000/8000 [==============================] - 4s 513us/step - loss: 0.3963 - acc: 0.8345\n",
            "Epoch 26/50\n",
            "8000/8000 [==============================] - 4s 511us/step - loss: 0.3957 - acc: 0.8357\n",
            "Epoch 27/50\n",
            "8000/8000 [==============================] - 4s 509us/step - loss: 0.3957 - acc: 0.8360\n",
            "Epoch 28/50\n",
            "8000/8000 [==============================] - 4s 510us/step - loss: 0.3956 - acc: 0.8356\n",
            "Epoch 29/50\n",
            "8000/8000 [==============================] - 4s 511us/step - loss: 0.3955 - acc: 0.8357\n",
            "Epoch 30/50\n",
            "8000/8000 [==============================] - 4s 512us/step - loss: 0.3950 - acc: 0.8354\n",
            "Epoch 31/50\n",
            "8000/8000 [==============================] - 4s 518us/step - loss: 0.3956 - acc: 0.8355\n",
            "Epoch 32/50\n",
            "8000/8000 [==============================] - 4s 527us/step - loss: 0.3949 - acc: 0.8365\n",
            "Epoch 33/50\n",
            "8000/8000 [==============================] - 4s 528us/step - loss: 0.3953 - acc: 0.8351\n",
            "Epoch 34/50\n",
            "8000/8000 [==============================] - 4s 527us/step - loss: 0.3948 - acc: 0.8355\n",
            "Epoch 35/50\n",
            "8000/8000 [==============================] - 4s 507us/step - loss: 0.3946 - acc: 0.8367\n",
            "Epoch 36/50\n",
            "8000/8000 [==============================] - 4s 495us/step - loss: 0.3949 - acc: 0.8357\n",
            "Epoch 37/50\n",
            "8000/8000 [==============================] - 4s 502us/step - loss: 0.3944 - acc: 0.8364\n",
            "Epoch 38/50\n",
            "8000/8000 [==============================] - 4s 506us/step - loss: 0.3943 - acc: 0.8352\n",
            "Epoch 39/50\n",
            "8000/8000 [==============================] - 4s 509us/step - loss: 0.3939 - acc: 0.8352\n",
            "Epoch 40/50\n",
            "8000/8000 [==============================] - 4s 503us/step - loss: 0.3937 - acc: 0.8362\n",
            "Epoch 41/50\n",
            "8000/8000 [==============================] - 4s 513us/step - loss: 0.3936 - acc: 0.8360\n",
            "Epoch 42/50\n",
            "8000/8000 [==============================] - 4s 503us/step - loss: 0.3920 - acc: 0.8377\n",
            "Epoch 43/50\n",
            "8000/8000 [==============================] - 4s 502us/step - loss: 0.3917 - acc: 0.8381\n",
            "Epoch 44/50\n",
            "8000/8000 [==============================] - 4s 503us/step - loss: 0.3897 - acc: 0.8372\n",
            "Epoch 45/50\n",
            "8000/8000 [==============================] - 4s 522us/step - loss: 0.3886 - acc: 0.8404\n",
            "Epoch 46/50\n",
            "8000/8000 [==============================] - 5s 567us/step - loss: 0.3865 - acc: 0.8371\n",
            "Epoch 47/50\n",
            "8000/8000 [==============================] - 4s 522us/step - loss: 0.3849 - acc: 0.8387\n",
            "Epoch 48/50\n",
            "8000/8000 [==============================] - 5s 599us/step - loss: 0.3828 - acc: 0.8400\n",
            "Epoch 49/50\n",
            "8000/8000 [==============================] - 5s 607us/step - loss: 0.3812 - acc: 0.8391\n",
            "Epoch 50/50\n",
            "8000/8000 [==============================] - 5s 614us/step - loss: 0.3800 - acc: 0.8389\n"
          ],
          "name": "stdout"
        }
      ]
    },
    {
      "metadata": {
        "id": "o7U39zucKuU3",
        "colab_type": "code",
        "colab": {}
      },
      "cell_type": "code",
      "source": [
        "  y_prediction = classifier.predict(X_test)"
      ],
      "execution_count": 0,
      "outputs": []
    },
    {
      "metadata": {
        "id": "KGtOdM8EM3Rv",
        "colab_type": "code",
        "outputId": "a78ea411-7b61-411e-d43d-45faa120bed2",
        "colab": {
          "base_uri": "https://localhost:8080/",
          "height": 139
        }
      },
      "cell_type": "code",
      "source": [
        "y_prediction = (y_prediction>50)\n",
        "y_prediction"
      ],
      "execution_count": 0,
      "outputs": [
        {
          "output_type": "execute_result",
          "data": {
            "text/plain": [
              "array([[False],\n",
              "       [False],\n",
              "       [False],\n",
              "       ...,\n",
              "       [False],\n",
              "       [False],\n",
              "       [False]])"
            ]
          },
          "metadata": {
            "tags": []
          },
          "execution_count": 27
        }
      ]
    },
    {
      "metadata": {
        "id": "x5CuWrveM7ve",
        "colab_type": "code",
        "colab": {}
      },
      "cell_type": "code",
      "source": [
        "import seaborn as sb"
      ],
      "execution_count": 0,
      "outputs": []
    },
    {
      "metadata": {
        "id": "iUGmQyE6NAIt",
        "colab_type": "code",
        "colab": {}
      },
      "cell_type": "code",
      "source": [
        "from sklearn.metrics import confusion_matrix"
      ],
      "execution_count": 0,
      "outputs": []
    },
    {
      "metadata": {
        "id": "FGMEeysLNFq5",
        "colab_type": "code",
        "colab": {}
      },
      "cell_type": "code",
      "source": [
        "cm = confusion_matrix(y_test,y_prediction)"
      ],
      "execution_count": 0,
      "outputs": []
    },
    {
      "metadata": {
        "id": "dCY3tjRENJPz",
        "colab_type": "code",
        "outputId": "d9ceb07f-ab4f-405a-b00e-8f07f2290c13",
        "colab": {
          "base_uri": "https://localhost:8080/",
          "height": 364
        }
      },
      "cell_type": "code",
      "source": [
        "sb.heatmap(cm,annot=True)"
      ],
      "execution_count": 0,
      "outputs": [
        {
          "output_type": "execute_result",
          "data": {
            "text/plain": [
              "<matplotlib.axes._subplots.AxesSubplot at 0x7efcd32676d8>"
            ]
          },
          "metadata": {
            "tags": []
          },
          "execution_count": 31
        },
        {
          "output_type": "display_data",
          "data": {
            "image/png": "[encoded data removed]",
            "text/plain": [
              "<Figure size 576x396 with 2 Axes>"
            ]
          },
          "metadata": {
            "tags": []
          }
        }
      ]
    },
    {
      "metadata": {
        "id": "gslrYo5DNJhh",
        "colab_type": "code",
        "outputId": "6cf42d82-a88c-48b8-8423-37bdd5b33a54",
        "colab": {
          "base_uri": "https://localhost:8080/",
          "height": 52
        }
      },
      "cell_type": "code",
      "source": [
        "cm"
      ],
      "execution_count": 0,
      "outputs": [
        {
          "output_type": "execute_result",
          "data": {
            "text/plain": [
              "array([[1595,    0],\n",
              "       [ 405,    0]])"
            ]
          },
          "metadata": {
            "tags": []
          },
          "execution_count": 32
        }
      ]
    },
    {
      "metadata": {
        "id": "6v3Zm5FeOpUB",
        "colab_type": "code",
        "colab": {}
      },
      "cell_type": "code",
      "source": [
        ""
      ],
      "execution_count": 0,
      "outputs": []
    }
  ]
}