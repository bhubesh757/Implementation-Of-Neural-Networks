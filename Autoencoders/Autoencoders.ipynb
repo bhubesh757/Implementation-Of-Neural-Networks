{
  "nbformat": 4,
  "nbformat_minor": 0,
  "metadata": {
    "colab": {
      "name": "Autoencoders.ipynb",
      "version": "0.3.2",
      "provenance": [],
      "collapsed_sections": []
    },
    "kernelspec": {
      "name": "python3",
      "display_name": "Python 3"
    },
    "accelerator": "GPU"
  },
  "cells": [
    {
      "metadata": {
        "id": "jknI1dEBgiYn",
        "colab_type": "code",
        "outputId": "b1a2abf0-5859-4ab0-f4bb-1aa98e6eb08b",
        "colab": {
          "base_uri": "https://localhost:8080/",
          "height": 34
        }
      },
      "cell_type": "code",
      "source": [
        "from keras.datasets import mnist\n",
        "from keras.layers import Dense,Input\n",
        "from keras.models import Model\n",
        "\n",
        "import numpy as np\n",
        "import matplotlib.pyplot as plt\n",
        "import pandas as pd\n",
        "%matplotlib inline"
      ],
      "execution_count": 0,
      "outputs": [
        {
          "output_type": "stream",
          "text": [
            "Using TensorFlow backend.\n"
          ],
          "name": "stderr"
        }
      ]
    },
    {
      "metadata": {
        "id": "hf7MqT1qgvWi",
        "colab_type": "code",
        "outputId": "3792d005-01f4-464b-d44d-ab5c26a1903b",
        "colab": {
          "base_uri": "https://localhost:8080/",
          "height": 52
        }
      },
      "cell_type": "code",
      "source": [
        "(X_train,_),(x_test,_) = mnist.load_data()\n",
        "X_train = X_train.astype(np.float32)/255\n",
        "x_test = x_test.astype(np.float32)/255\n",
        "X_train = X_train.reshape(60000,784)\n",
        "X_test = x_test.reshape(10000,784)"
      ],
      "execution_count": 0,
      "outputs": [
        {
          "output_type": "stream",
          "text": [
            "Downloading data from https://s3.amazonaws.com/img-datasets/mnist.npz\n",
            "11493376/11490434 [==============================] - 4s 0us/step\n"
          ],
          "name": "stdout"
        }
      ]
    },
    {
      "metadata": {
        "id": "3hPSu1aQhgKu",
        "colab_type": "code",
        "outputId": "a0fd9c1f-d5cf-4e3d-fc50-9d6d37bffef7",
        "colab": {
          "base_uri": "https://localhost:8080/",
          "height": 34
        }
      },
      "cell_type": "code",
      "source": [
        "X_train.shape"
      ],
      "execution_count": 0,
      "outputs": [
        {
          "output_type": "execute_result",
          "data": {
            "text/plain": [
              "(60000, 784)"
            ]
          },
          "metadata": {
            "tags": []
          },
          "execution_count": 3
        }
      ]
    },
    {
      "metadata": {
        "id": "EwYHqy7bhiOi",
        "colab_type": "code",
        "outputId": "d89f4a4d-c17f-41bb-8e60-df5b93976fba",
        "colab": {
          "base_uri": "https://localhost:8080/",
          "height": 34
        }
      },
      "cell_type": "code",
      "source": [
        "X_test.shape"
      ],
      "execution_count": 0,
      "outputs": [
        {
          "output_type": "execute_result",
          "data": {
            "text/plain": [
              "(10000, 784)"
            ]
          },
          "metadata": {
            "tags": []
          },
          "execution_count": 4
        }
      ]
    },
    {
      "metadata": {
        "id": "5wYOg3bxhj5d",
        "colab_type": "code",
        "colab": {}
      },
      "cell_type": "code",
      "source": [
        "def autoencoder():\n",
        "  \n",
        "  inputImage = Input(shape=(784,))\n",
        "  encode = Dense(units=32,activation=\"relu\")(inputImage)\n",
        "  decode = Dense(units=784,activation=\"relu\")(encode)\n",
        "  autoencoder = Model(inputImage,decode)\n",
        "  autoencoder.compile(loss=\"binary_crossentropy\",metrics=['accuracy'],optimizer=\"adadelta\")\n",
        "  \n",
        "  return autoencoder"
      ],
      "execution_count": 0,
      "outputs": []
    },
    {
      "metadata": {
        "id": "uJJUDCcYiy0H",
        "colab_type": "code",
        "outputId": "a9b33c91-0128-4c18-98f1-16cf0cda1d8a",
        "colab": {
          "base_uri": "https://localhost:8080/",
          "height": 315
        }
      },
      "cell_type": "code",
      "source": [
        "model = autoencoder()\n",
        "model.summary()"
      ],
      "execution_count": 0,
      "outputs": [
        {
          "output_type": "stream",
          "text": [
            "WARNING:tensorflow:From /usr/local/lib/python3.6/dist-packages/tensorflow/python/framework/op_def_library.py:263: colocate_with (from tensorflow.python.framework.ops) is deprecated and will be removed in a future version.\n",
            "Instructions for updating:\n",
            "Colocations handled automatically by placer.\n",
            "_________________________________________________________________\n",
            "Layer (type)                 Output Shape              Param #   \n",
            "=================================================================\n",
            "input_1 (InputLayer)         (None, 784)               0         \n",
            "_________________________________________________________________\n",
            "dense_1 (Dense)              (None, 32)                25120     \n",
            "_________________________________________________________________\n",
            "dense_2 (Dense)              (None, 784)               25872     \n",
            "=================================================================\n",
            "Total params: 50,992\n",
            "Trainable params: 50,992\n",
            "Non-trainable params: 0\n",
            "_________________________________________________________________\n"
          ],
          "name": "stdout"
        }
      ]
    },
    {
      "metadata": {
        "id": "cTIGk5J6i1mk",
        "colab_type": "code",
        "colab": {}
      },
      "cell_type": "code",
      "source": [
        "def encoder():\n",
        "  inputImage = Input(shape=(784,))\n",
        "  encode = Dense(units=32,activation=\"relu\")(inputImage)\n",
        "  encoder = Model(inputImage,encode)\n",
        "  return encoder"
      ],
      "execution_count": 0,
      "outputs": []
    },
    {
      "metadata": {
        "id": "cOrKQVUxjBdQ",
        "colab_type": "code",
        "outputId": "e5808497-8d1e-4823-e04b-f8571e0ac12a",
        "colab": {
          "base_uri": "https://localhost:8080/",
          "height": 208
        }
      },
      "cell_type": "code",
      "source": [
        "encoder = encoder()\n",
        "encoder.summary()"
      ],
      "execution_count": 0,
      "outputs": [
        {
          "output_type": "stream",
          "text": [
            "_________________________________________________________________\n",
            "Layer (type)                 Output Shape              Param #   \n",
            "=================================================================\n",
            "input_2 (InputLayer)         (None, 784)               0         \n",
            "_________________________________________________________________\n",
            "dense_3 (Dense)              (None, 32)                25120     \n",
            "=================================================================\n",
            "Total params: 25,120\n",
            "Trainable params: 25,120\n",
            "Non-trainable params: 0\n",
            "_________________________________________________________________\n"
          ],
          "name": "stdout"
        }
      ]
    },
    {
      "metadata": {
        "id": "YynblLgSjD7V",
        "colab_type": "code",
        "outputId": "48b87f73-cb7b-4145-ebac-406381c289a9",
        "colab": {
          "base_uri": "https://localhost:8080/",
          "height": 1843
        }
      },
      "cell_type": "code",
      "source": [
        "h = model.fit(X_train, X_train,\n",
        "                epochs=50,\n",
        "                batch_size=256,\n",
        "                shuffle=True,\n",
        "                validation_data=(X_test, X_test))"
      ],
      "execution_count": 0,
      "outputs": [
        {
          "output_type": "stream",
          "text": [
            "WARNING:tensorflow:From /usr/local/lib/python3.6/dist-packages/tensorflow/python/ops/math_ops.py:3066: to_int32 (from tensorflow.python.ops.math_ops) is deprecated and will be removed in a future version.\n",
            "Instructions for updating:\n",
            "Use tf.cast instead.\n",
            "Train on 60000 samples, validate on 10000 samples\n",
            "Epoch 1/50\n",
            "60000/60000 [==============================] - 4s 67us/step - loss: 0.3755 - acc: 0.8005 - val_loss: 0.3002 - val_acc: 0.7992\n",
            "Epoch 2/50\n",
            "60000/60000 [==============================] - 1s 24us/step - loss: 0.2741 - acc: 0.8027 - val_loss: 0.2498 - val_acc: 0.8034\n",
            "Epoch 3/50\n",
            "60000/60000 [==============================] - 1s 24us/step - loss: 0.2364 - acc: 0.8054 - val_loss: 0.2228 - val_acc: 0.8056\n",
            "Epoch 4/50\n",
            "60000/60000 [==============================] - 1s 24us/step - loss: 0.2162 - acc: 0.8075 - val_loss: 0.2104 - val_acc: 0.8074\n",
            "Epoch 5/50\n",
            "60000/60000 [==============================] - 1s 23us/step - loss: 0.2064 - acc: 0.8088 - val_loss: 0.2019 - val_acc: 0.8085\n",
            "Epoch 6/50\n",
            "60000/60000 [==============================] - 1s 24us/step - loss: 0.1976 - acc: 0.8097 - val_loss: 0.1901 - val_acc: 0.8092\n",
            "Epoch 7/50\n",
            "60000/60000 [==============================] - 1s 24us/step - loss: 0.1881 - acc: 0.8104 - val_loss: 0.1854 - val_acc: 0.8099\n",
            "Epoch 8/50\n",
            "60000/60000 [==============================] - 1s 24us/step - loss: 0.1837 - acc: 0.8109 - val_loss: 0.1816 - val_acc: 0.8103\n",
            "Epoch 9/50\n",
            "60000/60000 [==============================] - 1s 24us/step - loss: 0.1804 - acc: 0.8113 - val_loss: 0.1785 - val_acc: 0.8106\n",
            "Epoch 10/50\n",
            "60000/60000 [==============================] - 1s 24us/step - loss: 0.1775 - acc: 0.8116 - val_loss: 0.1764 - val_acc: 0.8109\n",
            "Epoch 11/50\n",
            "60000/60000 [==============================] - 1s 25us/step - loss: 0.1751 - acc: 0.8119 - val_loss: 0.1742 - val_acc: 0.8110\n",
            "Epoch 12/50\n",
            "60000/60000 [==============================] - 1s 24us/step - loss: 0.1730 - acc: 0.8121 - val_loss: 0.1716 - val_acc: 0.8114\n",
            "Epoch 13/50\n",
            "60000/60000 [==============================] - 1s 24us/step - loss: 0.1716 - acc: 0.8123 - val_loss: 0.1707 - val_acc: 0.8115\n",
            "Epoch 14/50\n",
            "60000/60000 [==============================] - 1s 24us/step - loss: 0.1707 - acc: 0.8124 - val_loss: 0.1701 - val_acc: 0.8116\n",
            "Epoch 15/50\n",
            "60000/60000 [==============================] - 1s 24us/step - loss: 0.1693 - acc: 0.8125 - val_loss: 0.1686 - val_acc: 0.8117\n",
            "Epoch 16/50\n",
            "60000/60000 [==============================] - 1s 24us/step - loss: 0.1687 - acc: 0.8126 - val_loss: 0.1711 - val_acc: 0.8116\n",
            "Epoch 17/50\n",
            "60000/60000 [==============================] - 1s 24us/step - loss: 0.1675 - acc: 0.8128 - val_loss: 0.1663 - val_acc: 0.8120\n",
            "Epoch 18/50\n",
            "60000/60000 [==============================] - 1s 24us/step - loss: 0.1669 - acc: 0.8128 - val_loss: 0.1668 - val_acc: 0.8120\n",
            "Epoch 19/50\n",
            "60000/60000 [==============================] - 1s 24us/step - loss: 0.1661 - acc: 0.8129 - val_loss: 0.1656 - val_acc: 0.8120\n",
            "Epoch 20/50\n",
            "60000/60000 [==============================] - 1s 24us/step - loss: 0.1655 - acc: 0.8129 - val_loss: 0.1681 - val_acc: 0.8117\n",
            "Epoch 21/50\n",
            "60000/60000 [==============================] - 1s 24us/step - loss: 0.1649 - acc: 0.8130 - val_loss: 0.1645 - val_acc: 0.8121\n",
            "Epoch 22/50\n",
            "60000/60000 [==============================] - 1s 24us/step - loss: 0.1642 - acc: 0.8131 - val_loss: 0.1637 - val_acc: 0.8123\n",
            "Epoch 23/50\n",
            "60000/60000 [==============================] - 1s 24us/step - loss: 0.1640 - acc: 0.8131 - val_loss: 0.1641 - val_acc: 0.8123\n",
            "Epoch 24/50\n",
            "60000/60000 [==============================] - 1s 24us/step - loss: 0.1636 - acc: 0.8132 - val_loss: 0.1653 - val_acc: 0.8122\n",
            "Epoch 25/50\n",
            "60000/60000 [==============================] - 1s 24us/step - loss: 0.1633 - acc: 0.8132 - val_loss: 0.1676 - val_acc: 0.8118\n",
            "Epoch 26/50\n",
            "60000/60000 [==============================] - 1s 24us/step - loss: 0.1633 - acc: 0.8132 - val_loss: 0.1622 - val_acc: 0.8124\n",
            "Epoch 27/50\n",
            "60000/60000 [==============================] - 1s 24us/step - loss: 0.1622 - acc: 0.8133 - val_loss: 0.1609 - val_acc: 0.8125\n",
            "Epoch 28/50\n",
            "60000/60000 [==============================] - 1s 24us/step - loss: 0.1623 - acc: 0.8133 - val_loss: 0.1641 - val_acc: 0.8123\n",
            "Epoch 29/50\n",
            "60000/60000 [==============================] - 1s 24us/step - loss: 0.1622 - acc: 0.8133 - val_loss: 0.1631 - val_acc: 0.8123\n",
            "Epoch 30/50\n",
            "60000/60000 [==============================] - 1s 24us/step - loss: 0.1624 - acc: 0.8132 - val_loss: 0.1616 - val_acc: 0.8125\n",
            "Epoch 31/50\n",
            "60000/60000 [==============================] - 1s 24us/step - loss: 0.1619 - acc: 0.8133 - val_loss: 0.1610 - val_acc: 0.8125\n",
            "Epoch 32/50\n",
            "60000/60000 [==============================] - 1s 24us/step - loss: 0.1619 - acc: 0.8133 - val_loss: 0.1609 - val_acc: 0.8125\n",
            "Epoch 33/50\n",
            "60000/60000 [==============================] - 1s 24us/step - loss: 0.1612 - acc: 0.8134 - val_loss: 0.1611 - val_acc: 0.8124\n",
            "Epoch 34/50\n",
            "60000/60000 [==============================] - 1s 24us/step - loss: 0.1617 - acc: 0.8133 - val_loss: 0.1606 - val_acc: 0.8126\n",
            "Epoch 35/50\n",
            "60000/60000 [==============================] - 1s 24us/step - loss: 0.1615 - acc: 0.8134 - val_loss: 0.1603 - val_acc: 0.8126\n",
            "Epoch 36/50\n",
            "60000/60000 [==============================] - 1s 24us/step - loss: 0.1613 - acc: 0.8134 - val_loss: 0.1602 - val_acc: 0.8126\n",
            "Epoch 37/50\n",
            "60000/60000 [==============================] - 1s 24us/step - loss: 0.1609 - acc: 0.8134 - val_loss: 0.1604 - val_acc: 0.8126\n",
            "Epoch 38/50\n",
            "60000/60000 [==============================] - 1s 24us/step - loss: 0.1604 - acc: 0.8135 - val_loss: 0.1597 - val_acc: 0.8126\n",
            "Epoch 39/50\n",
            "60000/60000 [==============================] - 1s 24us/step - loss: 0.1611 - acc: 0.8134 - val_loss: 0.1614 - val_acc: 0.8125\n",
            "Epoch 40/50\n",
            "60000/60000 [==============================] - 1s 24us/step - loss: 0.1604 - acc: 0.8135 - val_loss: 0.1590 - val_acc: 0.8126\n",
            "Epoch 41/50\n",
            "60000/60000 [==============================] - 1s 24us/step - loss: 0.1609 - acc: 0.8134 - val_loss: 0.1601 - val_acc: 0.8125\n",
            "Epoch 42/50\n",
            "60000/60000 [==============================] - 1s 23us/step - loss: 0.1606 - acc: 0.8135 - val_loss: 0.1595 - val_acc: 0.8126\n",
            "Epoch 43/50\n",
            "60000/60000 [==============================] - 1s 24us/step - loss: 0.1600 - acc: 0.8135 - val_loss: 0.1695 - val_acc: 0.8117\n",
            "Epoch 44/50\n",
            "60000/60000 [==============================] - 1s 24us/step - loss: 0.1611 - acc: 0.8134 - val_loss: 0.1597 - val_acc: 0.8126\n",
            "Epoch 45/50\n",
            "60000/60000 [==============================] - 1s 24us/step - loss: 0.1605 - acc: 0.8135 - val_loss: 0.1614 - val_acc: 0.8126\n",
            "Epoch 46/50\n",
            "60000/60000 [==============================] - 1s 24us/step - loss: 0.1602 - acc: 0.8135 - val_loss: 0.1602 - val_acc: 0.8126\n",
            "Epoch 47/50\n",
            "60000/60000 [==============================] - 1s 23us/step - loss: 0.1601 - acc: 0.8135 - val_loss: 0.1602 - val_acc: 0.8126\n",
            "Epoch 48/50\n",
            "60000/60000 [==============================] - 1s 24us/step - loss: 0.1597 - acc: 0.8135 - val_loss: 0.1594 - val_acc: 0.8127\n",
            "Epoch 49/50\n",
            "60000/60000 [==============================] - 1s 24us/step - loss: 0.1605 - acc: 0.8135 - val_loss: 0.1634 - val_acc: 0.8125\n",
            "Epoch 50/50\n",
            "60000/60000 [==============================] - 1s 24us/step - loss: 0.1605 - acc: 0.8135 - val_loss: 0.1602 - val_acc: 0.8126\n"
          ],
          "name": "stdout"
        }
      ]
    },
    {
      "metadata": {
        "id": "9WgfgBH4jzka",
        "colab_type": "code",
        "colab": {}
      },
      "cell_type": "code",
      "source": [
        "predictedImage = model.predict(X_test)"
      ],
      "execution_count": 0,
      "outputs": []
    },
    {
      "metadata": {
        "id": "BvdL3IHWksoJ",
        "colab_type": "code",
        "colab": {}
      },
      "cell_type": "code",
      "source": [
        "demoPredictedImage = predictedImage[0].reshape(28,28)"
      ],
      "execution_count": 0,
      "outputs": []
    },
    {
      "metadata": {
        "id": "k_vX_Cnek088",
        "colab_type": "code",
        "outputId": "c677f5cc-9522-446d-ce4a-dcef619eada7",
        "colab": {
          "base_uri": "https://localhost:8080/",
          "height": 282
        }
      },
      "cell_type": "code",
      "source": [
        "plt.imshow(demoPredictedImage)"
      ],
      "execution_count": 0,
      "outputs": [
        {
          "output_type": "execute_result",
          "data": {
            "text/plain": [
              "<matplotlib.image.AxesImage at 0x7f54c03bfa58>"
            ]
          },
          "metadata": {
            "tags": []
          },
          "execution_count": 17
        },
        {
          "output_type": "display_data",
          "data": {
            "image/png": "[encoded data removed]",
            "text/plain": [
              "<Figure size 432x288 with 1 Axes>"
            ]
          },
          "metadata": {
            "tags": []
          }
        }
      ]
    },
    {
      "metadata": {
        "id": "uEZgIRqlk_17",
        "colab_type": "code",
        "colab": {}
      },
      "cell_type": "code",
      "source": [
        "encodedImage = encoder.predict(X_test)"
      ],
      "execution_count": 0,
      "outputs": []
    },
    {
      "metadata": {
        "id": "UAvSejOUlayl",
        "colab_type": "code",
        "colab": {}
      },
      "cell_type": "code",
      "source": [
        "demoEncodedImage = encodedImage[0].reshape(8,4)"
      ],
      "execution_count": 0,
      "outputs": []
    },
    {
      "metadata": {
        "id": "1ccdIqstmVF2",
        "colab_type": "code",
        "outputId": "3e3325bf-86cd-45d1-ee8d-149c5ad4b3c5",
        "colab": {
          "base_uri": "https://localhost:8080/",
          "height": 265
        }
      },
      "cell_type": "code",
      "source": [
        "plt.imshow(demoEncodedImage)\n",
        "plt.grid(False)"
      ],
      "execution_count": 0,
      "outputs": [
        {
          "output_type": "display_data",
          "data": {
            "image/png": "[encoded data removed]",
            "text/plain": [
              "<Figure size 432x288 with 1 Axes>"
            ]
          },
          "metadata": {
            "tags": []
          }
        }
      ]
    },
    {
      "metadata": {
        "id": "Kz87lNtrmcuo",
        "colab_type": "code",
        "outputId": "65eb67d5-88d7-40da-be1d-19495ce06cbb",
        "colab": {
          "base_uri": "https://localhost:8080/",
          "height": 263
        }
      },
      "cell_type": "code",
      "source": [
        "plt.figure(figsize=(40, 4))\n",
        "for i in range(10):\n",
        "    # display original\n",
        "    ax = plt.subplot(3, 20, i + 1)\n",
        "    plt.imshow(X_test[i].reshape(28, 28))\n",
        "    if(i==5):\n",
        "      ax.set_title(\"Orignal Images\")\n",
        "    plt.gray()\n",
        "    ax.get_xaxis().set_visible(False)\n",
        "    ax.get_yaxis().set_visible(False)\n",
        "    \n",
        "    # display encoded image\n",
        "    ax = plt.subplot(3, 20, i + 1 + 20)\n",
        "    plt.imshow(encodedImage[i].reshape(8,4))\n",
        "    if(i==5):\n",
        "      ax.set_title(\"Encoded Images\")\n",
        "    plt.gray()\n",
        "    ax.get_xaxis().set_visible(False)\n",
        "    ax.get_yaxis().set_visible(False)\n",
        "\n",
        "    # display reconstruction\n",
        "    ax = plt.subplot(3, 20, 2*20 +i+ 1)\n",
        "    plt.imshow(predictedImage[i].reshape(28, 28))\n",
        "    if(i==5):\n",
        "      ax.set_title(\"Predicted Images\")\n",
        "    plt.gray()\n",
        "    ax.get_xaxis().set_visible(False)\n",
        "    ax.get_yaxis().set_visible(False)\n",
        "    \n",
        "    \n",
        "    \n",
        "plt.show()"
      ],
      "execution_count": 0,
      "outputs": [
        {
          "output_type": "display_data",
          "data": {
            "image/png": "[encoded data removed]",
            "text/plain": [
              "<Figure size 2880x288 with 30 Axes>"
            ]
          },
          "metadata": {
            "tags": []
          }
        }
      ]
    },
    {
      "metadata": {
        "id": "Ef47h2ZYmuzb",
        "colab_type": "code",
        "colab": {}
      },
      "cell_type": "code",
      "source": [
        ""
      ],
      "execution_count": 0,
      "outputs": []
    }
  ]
}