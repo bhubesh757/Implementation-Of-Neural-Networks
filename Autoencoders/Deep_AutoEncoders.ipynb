{
  "nbformat": 4,
  "nbformat_minor": 0,
  "metadata": {
    "colab": {
      "name": "Deep AutoEncoders.ipynb",
      "version": "0.3.2",
      "provenance": []
    },
    "kernelspec": {
      "name": "python3",
      "display_name": "Python 3"
    },
    "accelerator": "GPU"
  },
  "cells": [
    {
      "metadata": {
        "id": "kyNaBrNNpC_1",
        "colab_type": "code",
        "outputId": "059917d7-eae3-4c79-c2bd-ea645b5717dc",
        "colab": {
          "base_uri": "https://localhost:8080/",
          "height": 34
        }
      },
      "cell_type": "code",
      "source": [
        "import numpy as np\n",
        "import pandas as pd\n",
        "import matplotlib.pyplot as plt\n",
        "%matplotlib inline\n",
        "\n",
        "from keras.layers import Dense,Input\n",
        "from keras.datasets import mnist\n",
        "from keras.models import Model"
      ],
      "execution_count": 0,
      "outputs": [
        {
          "output_type": "stream",
          "text": [
            "Using TensorFlow backend.\n"
          ],
          "name": "stderr"
        }
      ]
    },
    {
      "metadata": {
        "id": "9qPnsqeOpm4h",
        "colab_type": "code",
        "colab": {}
      },
      "cell_type": "code",
      "source": [
        "(X_train,_),(X_test,_) = mnist.load_data()\n",
        "X_train = X_train.astype(np.float32)/255\n",
        "X_test = X_test.astype(np.float32)/255\n",
        "X_train = X_train.reshape(60000,784)\n",
        "X_test = X_test.reshape(10000,784)"
      ],
      "execution_count": 0,
      "outputs": []
    },
    {
      "metadata": {
        "id": "QqkoMqCuqSU6",
        "colab_type": "text"
      },
      "cell_type": "markdown",
      "source": [
        "![alt text](https://cdn-images-1.medium.com/max/800/1*EQU7F2dZ6p7_qiA_OS6qQg.png)"
      ]
    },
    {
      "metadata": {
        "id": "LJmQsHB7qBms",
        "colab_type": "code",
        "colab": {}
      },
      "cell_type": "code",
      "source": [
        "def deepAutoencoder():\n",
        "  \n",
        "  inputImage = Input(shape=(784,))\n",
        "  \n",
        "  encode = Dense(units=128,activation=\"relu\")(inputImage)\n",
        "  encode = Dense(units=64,activation=\"relu\")(encode)\n",
        "  encode = Dense(units=32,activation=\"relu\")(encode)\n",
        "  decode = Dense(units=64,activation=\"relu\")(encode)\n",
        "  decode = Dense(units=128,activation=\"relu\")(decode)\n",
        "  decode = Dense(units=784,activation=\"sigmoid\")(decode)\n",
        "  \n",
        "  autoencoder = Model(inputImage,decode)\n",
        "  autoencoder.compile(loss=\"binary_crossentropy\",metrics=['accuracy'],optimizer=\"adam\")\n",
        "  encoder = Model(inputImage,encode)\n",
        "  \n",
        "  return (autoencoder,encoder)"
      ],
      "execution_count": 0,
      "outputs": []
    },
    {
      "metadata": {
        "id": "Xh2HAqUNrS1J",
        "colab_type": "code",
        "colab": {}
      },
      "cell_type": "code",
      "source": [
        "model,encoder = deepAutoencoder()"
      ],
      "execution_count": 0,
      "outputs": []
    },
    {
      "metadata": {
        "id": "_pukvduurZOx",
        "colab_type": "code",
        "outputId": "25549a1d-0ba5-452a-96e2-994a7a82b289",
        "colab": {
          "base_uri": "https://localhost:8080/",
          "height": 1843
        }
      },
      "cell_type": "code",
      "source": [
        "h = model.fit(X_train,X_train,epochs=50,batch_size=256,shuffle=True,validation_data=(X_test,X_test))"
      ],
      "execution_count": 0,
      "outputs": [
        {
          "output_type": "stream",
          "text": [
            "WARNING:tensorflow:From /usr/local/lib/python3.6/dist-packages/tensorflow/python/ops/math_ops.py:3066: to_int32 (from tensorflow.python.ops.math_ops) is deprecated and will be removed in a future version.\n",
            "Instructions for updating:\n",
            "Use tf.cast instead.\n",
            "Train on 60000 samples, validate on 10000 samples\n",
            "Epoch 1/50\n",
            "60000/60000 [==============================] - 3s 51us/step - loss: 0.2457 - acc: 0.7847 - val_loss: 0.1620 - val_acc: 0.8014\n",
            "Epoch 2/50\n",
            "60000/60000 [==============================] - 2s 32us/step - loss: 0.1473 - acc: 0.8053 - val_loss: 0.1346 - val_acc: 0.8070\n",
            "Epoch 3/50\n",
            "60000/60000 [==============================] - 2s 32us/step - loss: 0.1295 - acc: 0.8087 - val_loss: 0.1222 - val_acc: 0.8089\n",
            "Epoch 4/50\n",
            "60000/60000 [==============================] - 2s 32us/step - loss: 0.1197 - acc: 0.8104 - val_loss: 0.1154 - val_acc: 0.8095\n",
            "Epoch 5/50\n",
            "60000/60000 [==============================] - 2s 33us/step - loss: 0.1134 - acc: 0.8114 - val_loss: 0.1095 - val_acc: 0.8107\n",
            "Epoch 6/50\n",
            "60000/60000 [==============================] - 2s 32us/step - loss: 0.1095 - acc: 0.8119 - val_loss: 0.1066 - val_acc: 0.8113\n",
            "Epoch 7/50\n",
            "60000/60000 [==============================] - 2s 33us/step - loss: 0.1067 - acc: 0.8123 - val_loss: 0.1043 - val_acc: 0.8117\n",
            "Epoch 8/50\n",
            "60000/60000 [==============================] - 2s 33us/step - loss: 0.1044 - acc: 0.8125 - val_loss: 0.1022 - val_acc: 0.8119\n",
            "Epoch 9/50\n",
            "60000/60000 [==============================] - 2s 33us/step - loss: 0.1026 - acc: 0.8128 - val_loss: 0.1007 - val_acc: 0.8122\n",
            "Epoch 10/50\n",
            "60000/60000 [==============================] - 2s 32us/step - loss: 0.1011 - acc: 0.8129 - val_loss: 0.0992 - val_acc: 0.8122\n",
            "Epoch 11/50\n",
            "60000/60000 [==============================] - 2s 33us/step - loss: 0.0998 - acc: 0.8131 - val_loss: 0.0982 - val_acc: 0.8120\n",
            "Epoch 12/50\n",
            "60000/60000 [==============================] - 2s 32us/step - loss: 0.0984 - acc: 0.8132 - val_loss: 0.0972 - val_acc: 0.8126\n",
            "Epoch 13/50\n",
            "60000/60000 [==============================] - 2s 33us/step - loss: 0.0972 - acc: 0.8134 - val_loss: 0.0958 - val_acc: 0.8123\n",
            "Epoch 14/50\n",
            "60000/60000 [==============================] - 2s 33us/step - loss: 0.0961 - acc: 0.8135 - val_loss: 0.0946 - val_acc: 0.8127\n",
            "Epoch 15/50\n",
            "60000/60000 [==============================] - 2s 32us/step - loss: 0.0952 - acc: 0.8136 - val_loss: 0.0940 - val_acc: 0.8127\n",
            "Epoch 16/50\n",
            "60000/60000 [==============================] - 2s 33us/step - loss: 0.0944 - acc: 0.8137 - val_loss: 0.0930 - val_acc: 0.8128\n",
            "Epoch 17/50\n",
            "60000/60000 [==============================] - 2s 33us/step - loss: 0.0937 - acc: 0.8137 - val_loss: 0.0928 - val_acc: 0.8128\n",
            "Epoch 18/50\n",
            "60000/60000 [==============================] - 2s 33us/step - loss: 0.0930 - acc: 0.8138 - val_loss: 0.0919 - val_acc: 0.8130\n",
            "Epoch 19/50\n",
            "60000/60000 [==============================] - 2s 33us/step - loss: 0.0924 - acc: 0.8139 - val_loss: 0.0917 - val_acc: 0.8130\n",
            "Epoch 20/50\n",
            "60000/60000 [==============================] - 2s 32us/step - loss: 0.0919 - acc: 0.8139 - val_loss: 0.0910 - val_acc: 0.8131\n",
            "Epoch 21/50\n",
            "60000/60000 [==============================] - 2s 32us/step - loss: 0.0914 - acc: 0.8140 - val_loss: 0.0903 - val_acc: 0.8129\n",
            "Epoch 22/50\n",
            "60000/60000 [==============================] - 2s 33us/step - loss: 0.0909 - acc: 0.8140 - val_loss: 0.0900 - val_acc: 0.8131\n",
            "Epoch 23/50\n",
            "60000/60000 [==============================] - 2s 32us/step - loss: 0.0905 - acc: 0.8141 - val_loss: 0.0899 - val_acc: 0.8130\n",
            "Epoch 24/50\n",
            "60000/60000 [==============================] - 2s 32us/step - loss: 0.0900 - acc: 0.8141 - val_loss: 0.0892 - val_acc: 0.8131\n",
            "Epoch 25/50\n",
            "60000/60000 [==============================] - 2s 33us/step - loss: 0.0897 - acc: 0.8141 - val_loss: 0.0892 - val_acc: 0.8130\n",
            "Epoch 26/50\n",
            "60000/60000 [==============================] - 2s 33us/step - loss: 0.0893 - acc: 0.8142 - val_loss: 0.0885 - val_acc: 0.8132\n",
            "Epoch 27/50\n",
            "60000/60000 [==============================] - 2s 33us/step - loss: 0.0889 - acc: 0.8142 - val_loss: 0.0881 - val_acc: 0.8132\n",
            "Epoch 28/50\n",
            "60000/60000 [==============================] - 2s 33us/step - loss: 0.0885 - acc: 0.8142 - val_loss: 0.0879 - val_acc: 0.8133\n",
            "Epoch 29/50\n",
            "60000/60000 [==============================] - 2s 32us/step - loss: 0.0882 - acc: 0.8143 - val_loss: 0.0876 - val_acc: 0.8133\n",
            "Epoch 30/50\n",
            "60000/60000 [==============================] - 2s 33us/step - loss: 0.0879 - acc: 0.8143 - val_loss: 0.0870 - val_acc: 0.8133\n",
            "Epoch 31/50\n",
            "60000/60000 [==============================] - 2s 32us/step - loss: 0.0876 - acc: 0.8143 - val_loss: 0.0870 - val_acc: 0.8133\n",
            "Epoch 32/50\n",
            "60000/60000 [==============================] - 2s 32us/step - loss: 0.0874 - acc: 0.8143 - val_loss: 0.0870 - val_acc: 0.8132\n",
            "Epoch 33/50\n",
            "60000/60000 [==============================] - 2s 32us/step - loss: 0.0871 - acc: 0.8144 - val_loss: 0.0864 - val_acc: 0.8134\n",
            "Epoch 34/50\n",
            "60000/60000 [==============================] - 2s 32us/step - loss: 0.0869 - acc: 0.8144 - val_loss: 0.0865 - val_acc: 0.8134\n",
            "Epoch 35/50\n",
            "60000/60000 [==============================] - 2s 33us/step - loss: 0.0867 - acc: 0.8144 - val_loss: 0.0864 - val_acc: 0.8135\n",
            "Epoch 36/50\n",
            "60000/60000 [==============================] - 2s 33us/step - loss: 0.0866 - acc: 0.8144 - val_loss: 0.0862 - val_acc: 0.8133\n",
            "Epoch 37/50\n",
            "60000/60000 [==============================] - 2s 32us/step - loss: 0.0864 - acc: 0.8144 - val_loss: 0.0859 - val_acc: 0.8134\n",
            "Epoch 38/50\n",
            "60000/60000 [==============================] - 2s 32us/step - loss: 0.0863 - acc: 0.8144 - val_loss: 0.0858 - val_acc: 0.8134\n",
            "Epoch 39/50\n",
            "60000/60000 [==============================] - 2s 32us/step - loss: 0.0861 - acc: 0.8144 - val_loss: 0.0857 - val_acc: 0.8134\n",
            "Epoch 40/50\n",
            "60000/60000 [==============================] - 2s 33us/step - loss: 0.0859 - acc: 0.8145 - val_loss: 0.0857 - val_acc: 0.8135\n",
            "Epoch 41/50\n",
            "60000/60000 [==============================] - 2s 33us/step - loss: 0.0858 - acc: 0.8145 - val_loss: 0.0853 - val_acc: 0.8135\n",
            "Epoch 42/50\n",
            "60000/60000 [==============================] - 2s 33us/step - loss: 0.0857 - acc: 0.8145 - val_loss: 0.0854 - val_acc: 0.8135\n",
            "Epoch 43/50\n",
            "60000/60000 [==============================] - 2s 33us/step - loss: 0.0855 - acc: 0.8145 - val_loss: 0.0851 - val_acc: 0.8135\n",
            "Epoch 44/50\n",
            "60000/60000 [==============================] - 2s 32us/step - loss: 0.0855 - acc: 0.8145 - val_loss: 0.0853 - val_acc: 0.8136\n",
            "Epoch 45/50\n",
            "60000/60000 [==============================] - 2s 33us/step - loss: 0.0853 - acc: 0.8145 - val_loss: 0.0850 - val_acc: 0.8135\n",
            "Epoch 46/50\n",
            "60000/60000 [==============================] - 2s 32us/step - loss: 0.0852 - acc: 0.8145 - val_loss: 0.0851 - val_acc: 0.8134\n",
            "Epoch 47/50\n",
            "60000/60000 [==============================] - 2s 32us/step - loss: 0.0851 - acc: 0.8145 - val_loss: 0.0847 - val_acc: 0.8135\n",
            "Epoch 48/50\n",
            "60000/60000 [==============================] - 2s 33us/step - loss: 0.0850 - acc: 0.8145 - val_loss: 0.0847 - val_acc: 0.8135\n",
            "Epoch 49/50\n",
            "60000/60000 [==============================] - 2s 33us/step - loss: 0.0849 - acc: 0.8145 - val_loss: 0.0846 - val_acc: 0.8135\n",
            "Epoch 50/50\n",
            "60000/60000 [==============================] - 2s 33us/step - loss: 0.0848 - acc: 0.8145 - val_loss: 0.0844 - val_acc: 0.8135\n"
          ],
          "name": "stdout"
        }
      ]
    },
    {
      "metadata": {
        "id": "cBxQYUaXsxmV",
        "colab_type": "code",
        "colab": {}
      },
      "cell_type": "code",
      "source": [
        "encodeImage = encoder.predict(X_test)\n",
        "predictedImage = model.predict(X_test)"
      ],
      "execution_count": 0,
      "outputs": []
    },
    {
      "metadata": {
        "id": "PlL_AX0hua9X",
        "colab_type": "code",
        "outputId": "026b1ca4-3e4c-4d0f-d71e-b69ecd3dbb9f",
        "colab": {
          "base_uri": "https://localhost:8080/",
          "height": 248
        }
      },
      "cell_type": "code",
      "source": [
        "plt.figure(figsize=(40, 4))\n",
        "for i in range(10):\n",
        "    # display original images\n",
        "    ax = plt.subplot(3, 20, i + 1)\n",
        "    plt.imshow(X_test[i].reshape(28, 28))\n",
        "    plt.gray()\n",
        "    ax.get_xaxis().set_visible(False)\n",
        "    ax.get_yaxis().set_visible(False)\n",
        "    \n",
        "    # display encoded images\n",
        "    ax = plt.subplot(3, 20, i + 1 + 20)\n",
        "    plt.imshow(encodeImage[i].reshape(8,4))\n",
        "    plt.gray()\n",
        "    ax.get_xaxis().set_visible(False)\n",
        "    ax.get_yaxis().set_visible(False)\n",
        "\n",
        "# display reconstructed images\n",
        "    ax = plt.subplot(3, 20, 2*20 +i+ 1)\n",
        "    plt.imshow(predictedImage[i].reshape(28, 28))\n",
        "    plt.gray()\n",
        "    ax.get_xaxis().set_visible(False)\n",
        "    ax.get_yaxis().set_visible(False)\n",
        "  \n",
        "    \n",
        "plt.show()"
      ],
      "execution_count": 0,
      "outputs": [
        {
          "output_type": "display_data",
          "data": {
            "image/png": "[encoded data removed]",
            "text/plain": [
              "<Figure size 2880x288 with 30 Axes>"
            ]
          },
          "metadata": {
            "tags": []
          }
        }
      ]
    },
    {
      "metadata": {
        "id": "jNQVJywNuiMH",
        "colab_type": "code",
        "colab": {}
      },
      "cell_type": "code",
      "source": [
        ""
      ],
      "execution_count": 0,
      "outputs": []
    }
  ]
}