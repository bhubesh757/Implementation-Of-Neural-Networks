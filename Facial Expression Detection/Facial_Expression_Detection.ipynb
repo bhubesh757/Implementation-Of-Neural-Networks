{
  "nbformat": 4,
  "nbformat_minor": 0,
  "metadata": {
    "colab": {
      "name": "Facial Expression Detection.ipynb",
      "version": "0.3.2",
      "provenance": [],
      "collapsed_sections": []
    },
    "kernelspec": {
      "name": "python3",
      "display_name": "Python 3"
    },
    "accelerator": "GPU"
  },
  "cells": [
    {
      "metadata": {
        "id": "wsgaeMjjNtTa",
        "colab_type": "code",
        "colab": {}
      },
      "cell_type": "code",
      "source": [
        "import pandas as pd\n",
        "import numpy as np\n",
        "import matplotlib.pyplot as plt\n",
        "%matplotlib inline"
      ],
      "execution_count": 0,
      "outputs": []
    },
    {
      "metadata": {
        "id": "DPxl0HFCN3QN",
        "colab_type": "code",
        "outputId": "8722e59d-01cb-4afe-e51a-2a55bbdd8f74",
        "colab": {
          "base_uri": "https://localhost:8080/",
          "height": 124
        }
      },
      "cell_type": "code",
      "source": [
        "from google.colab import drive\n",
        "drive.mount(\"/content/drive\")"
      ],
      "execution_count": 0,
      "outputs": [
        {
          "output_type": "stream",
          "text": [
            "Go to this URL in a browser: https://accounts.google.com/o/oauth2/auth?client_id=947318989803-6bn6qk8qdgf4n4g3pfee6491hc0brc4i.apps.googleusercontent.com&redirect_uri=urn%3Aietf%3Awg%3Aoauth%3A2.0%3Aoob&scope=email%20https%3A%2F%2Fwww.googleapis.com%2Fauth%2Fdocs.test%20https%3A%2F%2Fwww.googleapis.com%2Fauth%2Fdrive%20https%3A%2F%2Fwww.googleapis.com%2Fauth%2Fdrive.photos.readonly%20https%3A%2F%2Fwww.googleapis.com%2Fauth%2Fpeopleapi.readonly&response_type=code\n",
            "\n",
            "Enter your authorization code:\n",
            "··········\n",
            "Mounted at /content/drive\n"
          ],
          "name": "stdout"
        }
      ]
    },
    {
      "metadata": {
        "id": "om1N86V2N9vW",
        "colab_type": "code",
        "colab": {}
      },
      "cell_type": "code",
      "source": [
        "dataset = pd.read_csv(\"drive/My Drive/fer2013.csv\")"
      ],
      "execution_count": 0,
      "outputs": []
    },
    {
      "metadata": {
        "id": "kwRvAFo8OO9e",
        "colab_type": "code",
        "outputId": "e7f6da7a-defd-478c-f565-1e10e12230c8",
        "colab": {
          "base_uri": "https://localhost:8080/",
          "height": 206
        }
      },
      "cell_type": "code",
      "source": [
        "dataset.head()"
      ],
      "execution_count": 0,
      "outputs": [
        {
          "output_type": "execute_result",
          "data": {
            "text/html": [
              "<div>\n",
              "<style scoped>\n",
              "    .dataframe tbody tr th:only-of-type {\n",
              "        vertical-align: middle;\n",
              "    }\n",
              "\n",
              "    .dataframe tbody tr th {\n",
              "        vertical-align: top;\n",
              "    }\n",
              "\n",
              "    .dataframe thead th {\n",
              "        text-align: right;\n",
              "    }\n",
              "</style>\n",
              "<table border=\"1\" class=\"dataframe\">\n",
              "  <thead>\n",
              "    <tr style=\"text-align: right;\">\n",
              "      <th></th>\n",
              "      <th>emotion</th>\n",
              "      <th>pixels</th>\n",
              "      <th>Usage</th>\n",
              "    </tr>\n",
              "  </thead>\n",
              "  <tbody>\n",
              "    <tr>\n",
              "      <th>0</th>\n",
              "      <td>0</td>\n",
              "      <td>70 80 82 72 58 58 60 63 54 58 60 48 89 115 121...</td>\n",
              "      <td>Training</td>\n",
              "    </tr>\n",
              "    <tr>\n",
              "      <th>1</th>\n",
              "      <td>0</td>\n",
              "      <td>151 150 147 155 148 133 111 140 170 174 182 15...</td>\n",
              "      <td>Training</td>\n",
              "    </tr>\n",
              "    <tr>\n",
              "      <th>2</th>\n",
              "      <td>2</td>\n",
              "      <td>231 212 156 164 174 138 161 173 182 200 106 38...</td>\n",
              "      <td>Training</td>\n",
              "    </tr>\n",
              "    <tr>\n",
              "      <th>3</th>\n",
              "      <td>4</td>\n",
              "      <td>24 32 36 30 32 23 19 20 30 41 21 22 32 34 21 1...</td>\n",
              "      <td>Training</td>\n",
              "    </tr>\n",
              "    <tr>\n",
              "      <th>4</th>\n",
              "      <td>6</td>\n",
              "      <td>4 0 0 0 0 0 0 0 0 0 0 0 3 15 23 28 48 50 58 84...</td>\n",
              "      <td>Training</td>\n",
              "    </tr>\n",
              "  </tbody>\n",
              "</table>\n",
              "</div>"
            ],
            "text/plain": [
              "   emotion                                             pixels     Usage\n",
              "0        0  70 80 82 72 58 58 60 63 54 58 60 48 89 115 121...  Training\n",
              "1        0  151 150 147 155 148 133 111 140 170 174 182 15...  Training\n",
              "2        2  231 212 156 164 174 138 161 173 182 200 106 38...  Training\n",
              "3        4  24 32 36 30 32 23 19 20 30 41 21 22 32 34 21 1...  Training\n",
              "4        6  4 0 0 0 0 0 0 0 0 0 0 0 3 15 23 28 48 50 58 84...  Training"
            ]
          },
          "metadata": {
            "tags": []
          },
          "execution_count": 4
        }
      ]
    },
    {
      "metadata": {
        "id": "cU03VKrvRuv2",
        "colab_type": "code",
        "outputId": "185bf484-0329-40b3-e7c5-2979302c36bc",
        "colab": {
          "base_uri": "https://localhost:8080/",
          "height": 345
        }
      },
      "cell_type": "code",
      "source": [
        "dataset.info()\n",
        "dataset.tail()"
      ],
      "execution_count": 0,
      "outputs": [
        {
          "output_type": "stream",
          "text": [
            "<class 'pandas.core.frame.DataFrame'>\n",
            "RangeIndex: 35887 entries, 0 to 35886\n",
            "Data columns (total 3 columns):\n",
            "emotion    35887 non-null int64\n",
            "pixels     35887 non-null object\n",
            "Usage      35887 non-null object\n",
            "dtypes: int64(1), object(2)\n",
            "memory usage: 841.2+ KB\n"
          ],
          "name": "stdout"
        },
        {
          "output_type": "execute_result",
          "data": {
            "text/html": [
              "<div>\n",
              "<style scoped>\n",
              "    .dataframe tbody tr th:only-of-type {\n",
              "        vertical-align: middle;\n",
              "    }\n",
              "\n",
              "    .dataframe tbody tr th {\n",
              "        vertical-align: top;\n",
              "    }\n",
              "\n",
              "    .dataframe thead th {\n",
              "        text-align: right;\n",
              "    }\n",
              "</style>\n",
              "<table border=\"1\" class=\"dataframe\">\n",
              "  <thead>\n",
              "    <tr style=\"text-align: right;\">\n",
              "      <th></th>\n",
              "      <th>emotion</th>\n",
              "      <th>pixels</th>\n",
              "      <th>Usage</th>\n",
              "    </tr>\n",
              "  </thead>\n",
              "  <tbody>\n",
              "    <tr>\n",
              "      <th>35882</th>\n",
              "      <td>6</td>\n",
              "      <td>50 36 17 22 23 29 33 39 34 37 37 37 39 43 48 5...</td>\n",
              "      <td>PrivateTest</td>\n",
              "    </tr>\n",
              "    <tr>\n",
              "      <th>35883</th>\n",
              "      <td>3</td>\n",
              "      <td>178 174 172 173 181 188 191 194 196 199 200 20...</td>\n",
              "      <td>PrivateTest</td>\n",
              "    </tr>\n",
              "    <tr>\n",
              "      <th>35884</th>\n",
              "      <td>0</td>\n",
              "      <td>17 17 16 23 28 22 19 17 25 26 20 24 31 19 27 9...</td>\n",
              "      <td>PrivateTest</td>\n",
              "    </tr>\n",
              "    <tr>\n",
              "      <th>35885</th>\n",
              "      <td>3</td>\n",
              "      <td>30 28 28 29 31 30 42 68 79 81 77 67 67 71 63 6...</td>\n",
              "      <td>PrivateTest</td>\n",
              "    </tr>\n",
              "    <tr>\n",
              "      <th>35886</th>\n",
              "      <td>2</td>\n",
              "      <td>19 13 14 12 13 16 21 33 50 57 71 84 97 108 122...</td>\n",
              "      <td>PrivateTest</td>\n",
              "    </tr>\n",
              "  </tbody>\n",
              "</table>\n",
              "</div>"
            ],
            "text/plain": [
              "       emotion                                             pixels        Usage\n",
              "35882        6  50 36 17 22 23 29 33 39 34 37 37 37 39 43 48 5...  PrivateTest\n",
              "35883        3  178 174 172 173 181 188 191 194 196 199 200 20...  PrivateTest\n",
              "35884        0  17 17 16 23 28 22 19 17 25 26 20 24 31 19 27 9...  PrivateTest\n",
              "35885        3  30 28 28 29 31 30 42 68 79 81 77 67 67 71 63 6...  PrivateTest\n",
              "35886        2  19 13 14 12 13 16 21 33 50 57 71 84 97 108 122...  PrivateTest"
            ]
          },
          "metadata": {
            "tags": []
          },
          "execution_count": 5
        }
      ]
    },
    {
      "metadata": {
        "id": "6qUmX46RRy3V",
        "colab_type": "code",
        "colab": {}
      },
      "cell_type": "code",
      "source": [
        "X_train = []\n",
        "X_test = []\n",
        "y_train = []\n",
        "y_test = []\n",
        "for i in range(35887):\n",
        "  image = dataset.iloc[i][1].split(\" \")\n",
        "  image = np.array(image,\"float32\")\n",
        "  emotion = dataset.iloc[i][0]\n",
        "  if(dataset.iloc[i][2]==\"Training\"):\n",
        "    X_train.append(image)\n",
        "    y_train.append(emotion)\n",
        "  else:\n",
        "    X_test.append(image)\n",
        "    y_test.append(emotion)"
      ],
      "execution_count": 0,
      "outputs": []
    },
    {
      "metadata": {
        "id": "7yy684p9SaYE",
        "colab_type": "code",
        "colab": {}
      },
      "cell_type": "code",
      "source": [
        "X_train = np.array(X_train,'float32')"
      ],
      "execution_count": 0,
      "outputs": []
    },
    {
      "metadata": {
        "id": "Lp33424RTpPE",
        "colab_type": "code",
        "outputId": "b61cb7c6-384c-4957-9d72-d7251dbc0c10",
        "colab": {
          "base_uri": "https://localhost:8080/",
          "height": 34
        }
      },
      "cell_type": "code",
      "source": [
        "X_train.shape"
      ],
      "execution_count": 0,
      "outputs": [
        {
          "output_type": "execute_result",
          "data": {
            "text/plain": [
              "(28709, 2304)"
            ]
          },
          "metadata": {
            "tags": []
          },
          "execution_count": 8
        }
      ]
    },
    {
      "metadata": {
        "id": "Ll-jaSrxTxt6",
        "colab_type": "code",
        "colab": {}
      },
      "cell_type": "code",
      "source": [
        "X_test = np.array(X_test,'float32')"
      ],
      "execution_count": 0,
      "outputs": []
    },
    {
      "metadata": {
        "id": "iVLwDWZgUa8G",
        "colab_type": "code",
        "outputId": "2c1773ce-24c9-4d54-fe09-545406ca7875",
        "colab": {
          "base_uri": "https://localhost:8080/",
          "height": 34
        }
      },
      "cell_type": "code",
      "source": [
        "X_test.shape"
      ],
      "execution_count": 0,
      "outputs": [
        {
          "output_type": "execute_result",
          "data": {
            "text/plain": [
              "(7178, 2304)"
            ]
          },
          "metadata": {
            "tags": []
          },
          "execution_count": 10
        }
      ]
    },
    {
      "metadata": {
        "id": "aKP9B1TyVEyR",
        "colab_type": "code",
        "colab": {}
      },
      "cell_type": "code",
      "source": [
        "X_train = X_train.reshape(X_train.shape[0],48,48)/255\n",
        "X_test = X_test.reshape(X_test.shape[0],48,48)/255"
      ],
      "execution_count": 0,
      "outputs": []
    },
    {
      "metadata": {
        "id": "y9xwzJYdVcyp",
        "colab_type": "code",
        "outputId": "adbe737a-c7c1-4329-b8af-c99b1173287e",
        "colab": {
          "base_uri": "https://localhost:8080/",
          "height": 284
        }
      },
      "cell_type": "code",
      "source": [
        "plt.imshow(X_train[0],cmap=\"gray\")"
      ],
      "execution_count": 0,
      "outputs": [
        {
          "output_type": "execute_result",
          "data": {
            "text/plain": [
              "<matplotlib.image.AxesImage at 0x7f6bbf2eb9e8>"
            ]
          },
          "metadata": {
            "tags": []
          },
          "execution_count": 12
        },
        {
          "output_type": "display_data",
          "data": {
            "image/png": "[encoded data removed]",
            "text/plain": [
              "<Figure size 432x288 with 1 Axes>"
            ]
          },
          "metadata": {
            "tags": []
          }
        }
      ]
    },
    {
      "metadata": {
        "id": "fdDcnvHCaFsO",
        "colab_type": "code",
        "colab": {}
      },
      "cell_type": "code",
      "source": [
        "X_train = X_train.reshape(X_train.shape[0],48,48,1)\n",
        "X_test = X_test.reshape(X_test.shape[0],48,48,1)"
      ],
      "execution_count": 0,
      "outputs": []
    },
    {
      "metadata": {
        "id": "n9zKqJgLVhUm",
        "colab_type": "code",
        "colab": {}
      },
      "cell_type": "code",
      "source": [
        "y_train = np.array(y_train,\"float32\")"
      ],
      "execution_count": 0,
      "outputs": []
    },
    {
      "metadata": {
        "id": "iVqf5_P_VuEp",
        "colab_type": "code",
        "outputId": "3ce3cabd-e2b3-473d-aeab-f0bd377ca1c7",
        "colab": {
          "base_uri": "https://localhost:8080/",
          "height": 34
        }
      },
      "cell_type": "code",
      "source": [
        "y_train.shape"
      ],
      "execution_count": 0,
      "outputs": [
        {
          "output_type": "execute_result",
          "data": {
            "text/plain": [
              "(28709,)"
            ]
          },
          "metadata": {
            "tags": []
          },
          "execution_count": 15
        }
      ]
    },
    {
      "metadata": {
        "id": "QxR4qu1zV0Jf",
        "colab_type": "code",
        "outputId": "b4fb98cc-aad1-4a7b-e097-ef20036347af",
        "colab": {
          "base_uri": "https://localhost:8080/",
          "height": 34
        }
      },
      "cell_type": "code",
      "source": [
        "y_train[0]"
      ],
      "execution_count": 0,
      "outputs": [
        {
          "output_type": "execute_result",
          "data": {
            "text/plain": [
              "0.0"
            ]
          },
          "metadata": {
            "tags": []
          },
          "execution_count": 16
        }
      ]
    },
    {
      "metadata": {
        "id": "WXRDdHdEV2wL",
        "colab_type": "code",
        "outputId": "7a4e4a3a-9b1f-4d0f-a39e-8dbd875cbb8a",
        "colab": {
          "base_uri": "https://localhost:8080/",
          "height": 34
        }
      },
      "cell_type": "code",
      "source": [
        "y_test = np.array(y_test,\"float32\")\n",
        "y_test.shape"
      ],
      "execution_count": 0,
      "outputs": [
        {
          "output_type": "execute_result",
          "data": {
            "text/plain": [
              "(7178,)"
            ]
          },
          "metadata": {
            "tags": []
          },
          "execution_count": 17
        }
      ]
    },
    {
      "metadata": {
        "id": "kl5JDNpBWcIY",
        "colab_type": "code",
        "colab": {}
      },
      "cell_type": "code",
      "source": [
        "from keras.layers import Dense,Dropout,Flatten,Conv2D,MaxPooling2D,AveragePooling2D\n",
        "from keras.models import Sequential\n",
        "from keras.optimizers import RMSprop"
      ],
      "execution_count": 0,
      "outputs": []
    },
    {
      "metadata": {
        "id": "xMb-VJVMW0xJ",
        "colab_type": "code",
        "colab": {}
      },
      "cell_type": "code",
      "source": [
        "def model():\n",
        "  \n",
        "  model = Sequential()\n",
        "  \n",
        "  model.add(Conv2D(64, (5, 5), activation='relu', input_shape=(48,48,1),padding=\"same\"))\n",
        "  model.add(Conv2D(64,(5,5),activation=\"relu\",padding=\"same\"))\n",
        "  model.add(MaxPooling2D(pool_size=(3,3)))\n",
        "            \n",
        "  model.add(Conv2D(64,(3,3),activation=\"relu\",padding=\"same\"))\n",
        "  model.add(Conv2D(64,(3,3),activation=\"relu\",padding=\"same\"))\n",
        "  model.add(MaxPooling2D(pool_size=(3,3)))\n",
        "  \n",
        "  model.add(Conv2D(128,(3,3),dilation_rate=(2,2),activation=\"relu\",padding=\"same\"))\n",
        "  model.add(Conv2D(128,(3,3),activation=\"relu\",padding=\"valid\"))\n",
        "  model.add(MaxPooling2D(pool_size=(3,3)))\n",
        "  \n",
        "  model.add(Flatten())\n",
        "  model.add(Dense(1024,activation=\"relu\"))\n",
        "  model.add(Dropout(0.2))\n",
        "  model.add(Dense(1024,activation=\"relu\"))\n",
        "  model.add(Dropout(0.2))\n",
        "  model.add(Dense(7,activation=\"softmax\"))\n",
        "  model.compile(loss=\"categorical_crossentropy\",metrics=['accuracy'],optimizer=RMSprop(lr=0.0002,decay=1e-08))\n",
        "  \n",
        "  return model"
      ],
      "execution_count": 0,
      "outputs": []
    },
    {
      "metadata": {
        "id": "0PnQ29StZAHM",
        "colab_type": "code",
        "colab": {}
      },
      "cell_type": "code",
      "source": [
        "model = model()"
      ],
      "execution_count": 0,
      "outputs": []
    },
    {
      "metadata": {
        "id": "eeAHTO_9ZBnU",
        "colab_type": "code",
        "outputId": "5b4a5ade-99ef-4bf2-bb07-e9bdebc0e037",
        "colab": {
          "base_uri": "https://localhost:8080/",
          "height": 660
        }
      },
      "cell_type": "code",
      "source": [
        "model.summary()"
      ],
      "execution_count": 0,
      "outputs": [
        {
          "output_type": "stream",
          "text": [
            "_________________________________________________________________\n",
            "Layer (type)                 Output Shape              Param #   \n",
            "=================================================================\n",
            "conv2d_42 (Conv2D)           (None, 48, 48, 64)        1664      \n",
            "_________________________________________________________________\n",
            "conv2d_43 (Conv2D)           (None, 48, 48, 64)        102464    \n",
            "_________________________________________________________________\n",
            "max_pooling2d_18 (MaxPooling (None, 16, 16, 64)        0         \n",
            "_________________________________________________________________\n",
            "conv2d_44 (Conv2D)           (None, 16, 16, 64)        36928     \n",
            "_________________________________________________________________\n",
            "conv2d_45 (Conv2D)           (None, 16, 16, 64)        36928     \n",
            "_________________________________________________________________\n",
            "max_pooling2d_19 (MaxPooling (None, 5, 5, 64)          0         \n",
            "_________________________________________________________________\n",
            "conv2d_46 (Conv2D)           (None, 5, 5, 128)         73856     \n",
            "_________________________________________________________________\n",
            "conv2d_47 (Conv2D)           (None, 3, 3, 128)         147584    \n",
            "_________________________________________________________________\n",
            "max_pooling2d_20 (MaxPooling (None, 1, 1, 128)         0         \n",
            "_________________________________________________________________\n",
            "flatten_3 (Flatten)          (None, 128)               0         \n",
            "_________________________________________________________________\n",
            "dense_7 (Dense)              (None, 1024)              132096    \n",
            "_________________________________________________________________\n",
            "dropout_5 (Dropout)          (None, 1024)              0         \n",
            "_________________________________________________________________\n",
            "dense_8 (Dense)              (None, 1024)              1049600   \n",
            "_________________________________________________________________\n",
            "dropout_6 (Dropout)          (None, 1024)              0         \n",
            "_________________________________________________________________\n",
            "dense_9 (Dense)              (None, 7)                 7175      \n",
            "=================================================================\n",
            "Total params: 1,588,295\n",
            "Trainable params: 1,588,295\n",
            "Non-trainable params: 0\n",
            "_________________________________________________________________\n"
          ],
          "name": "stdout"
        }
      ]
    },
    {
      "metadata": {
        "id": "RCg6a3btZFdr",
        "colab_type": "code",
        "colab": {}
      },
      "cell_type": "code",
      "source": [
        "from keras.preprocessing.image import ImageDataGenerator\n",
        "from keras.utils.np_utils import to_categorical"
      ],
      "execution_count": 0,
      "outputs": []
    },
    {
      "metadata": {
        "id": "CCzmSdlAahxp",
        "colab_type": "code",
        "outputId": "2a9a9225-0c10-418d-ef32-e604cd663223",
        "colab": {
          "base_uri": "https://localhost:8080/",
          "height": 34
        }
      },
      "cell_type": "code",
      "source": [
        "y_train = to_categorical(y_train,7)\n",
        "y_train[0]"
      ],
      "execution_count": 0,
      "outputs": [
        {
          "output_type": "execute_result",
          "data": {
            "text/plain": [
              "array([1., 0., 0., 0., 0., 0., 0.], dtype=float32)"
            ]
          },
          "metadata": {
            "tags": []
          },
          "execution_count": 39
        }
      ]
    },
    {
      "metadata": {
        "id": "9WlC8MvQZuqd",
        "colab_type": "code",
        "colab": {}
      },
      "cell_type": "code",
      "source": [
        "generator = ImageDataGenerator()\n",
        "trainGenerator = generator.flow(X_train,y_train,batch_size=128)"
      ],
      "execution_count": 0,
      "outputs": []
    },
    {
      "metadata": {
        "id": "tGbkPHHyaAfh",
        "colab_type": "code",
        "outputId": "66ff8561-6350-4c99-ee30-af6987119121",
        "colab": {
          "base_uri": "https://localhost:8080/",
          "height": 1754
        }
      },
      "cell_type": "code",
      "source": [
        "h = model.fit_generator(trainGenerator,steps_per_epoch=128,epochs=50,verbose=1,shuffle=1)"
      ],
      "execution_count": 0,
      "outputs": [
        {
          "output_type": "stream",
          "text": [
            "Epoch 1/50\n",
            "128/128 [==============================] - 11s 88ms/step - loss: 1.8243 - acc: 0.2499\n",
            "Epoch 2/50\n",
            "128/128 [==============================] - 10s 81ms/step - loss: 1.7475 - acc: 0.2866\n",
            "Epoch 3/50\n",
            "128/128 [==============================] - 10s 81ms/step - loss: 1.6404 - acc: 0.3556\n",
            "Epoch 4/50\n",
            "128/128 [==============================] - 10s 82ms/step - loss: 1.5569 - acc: 0.3936\n",
            "Epoch 5/50\n",
            "128/128 [==============================] - 10s 82ms/step - loss: 1.5085 - acc: 0.4184\n",
            "Epoch 6/50\n",
            "128/128 [==============================] - 10s 81ms/step - loss: 1.4554 - acc: 0.4417\n",
            "Epoch 7/50\n",
            "128/128 [==============================] - 10s 82ms/step - loss: 1.4100 - acc: 0.4575\n",
            "Epoch 8/50\n",
            "128/128 [==============================] - 10s 82ms/step - loss: 1.3510 - acc: 0.4843\n",
            "Epoch 9/50\n",
            "128/128 [==============================] - 10s 82ms/step - loss: 1.3354 - acc: 0.4887\n",
            "Epoch 10/50\n",
            "128/128 [==============================] - 10s 82ms/step - loss: 1.2805 - acc: 0.5063\n",
            "Epoch 11/50\n",
            "128/128 [==============================] - 10s 81ms/step - loss: 1.2332 - acc: 0.5309\n",
            "Epoch 12/50\n",
            "128/128 [==============================] - 11s 83ms/step - loss: 1.2030 - acc: 0.5426\n",
            "Epoch 13/50\n",
            "128/128 [==============================] - 10s 82ms/step - loss: 1.1652 - acc: 0.5570\n",
            "Epoch 14/50\n",
            "128/128 [==============================] - 11s 82ms/step - loss: 1.1457 - acc: 0.5692\n",
            "Epoch 15/50\n",
            "128/128 [==============================] - 11s 82ms/step - loss: 1.0889 - acc: 0.5893\n",
            "Epoch 16/50\n",
            "128/128 [==============================] - 10s 82ms/step - loss: 1.0700 - acc: 0.5949\n",
            "Epoch 17/50\n",
            "128/128 [==============================] - 10s 82ms/step - loss: 1.0256 - acc: 0.6172\n",
            "Epoch 18/50\n",
            "128/128 [==============================] - 10s 81ms/step - loss: 0.9969 - acc: 0.6275\n",
            "Epoch 19/50\n",
            "128/128 [==============================] - 11s 82ms/step - loss: 0.9574 - acc: 0.6485\n",
            "Epoch 20/50\n",
            "128/128 [==============================] - 10s 81ms/step - loss: 0.9270 - acc: 0.6583\n",
            "Epoch 21/50\n",
            "128/128 [==============================] - 10s 82ms/step - loss: 0.9001 - acc: 0.6664\n",
            "Epoch 22/50\n",
            "128/128 [==============================] - 10s 82ms/step - loss: 0.8377 - acc: 0.6945\n",
            "Epoch 23/50\n",
            "128/128 [==============================] - 10s 82ms/step - loss: 0.8364 - acc: 0.6942\n",
            "Epoch 24/50\n",
            "128/128 [==============================] - 11s 82ms/step - loss: 0.7736 - acc: 0.7195\n",
            "Epoch 25/50\n",
            "128/128 [==============================] - 10s 81ms/step - loss: 0.7420 - acc: 0.7279\n",
            "Epoch 26/50\n",
            "128/128 [==============================] - 10s 82ms/step - loss: 0.7218 - acc: 0.7397\n",
            "Epoch 27/50\n",
            "128/128 [==============================] - 10s 81ms/step - loss: 0.6685 - acc: 0.7589\n",
            "Epoch 28/50\n",
            "128/128 [==============================] - 11s 82ms/step - loss: 0.6547 - acc: 0.7630\n",
            "Epoch 29/50\n",
            "128/128 [==============================] - 10s 82ms/step - loss: 0.5847 - acc: 0.7896\n",
            "Epoch 30/50\n",
            "128/128 [==============================] - 10s 82ms/step - loss: 0.5900 - acc: 0.7885\n",
            "Epoch 31/50\n",
            "128/128 [==============================] - 11s 82ms/step - loss: 0.5260 - acc: 0.8112\n",
            "Epoch 32/50\n",
            "128/128 [==============================] - 10s 82ms/step - loss: 0.5008 - acc: 0.8191\n",
            "Epoch 33/50\n",
            "128/128 [==============================] - 10s 82ms/step - loss: 0.4793 - acc: 0.8275\n",
            "Epoch 34/50\n",
            "128/128 [==============================] - 10s 82ms/step - loss: 0.4361 - acc: 0.8446\n",
            "Epoch 35/50\n",
            "128/128 [==============================] - 10s 82ms/step - loss: 0.4322 - acc: 0.8461\n",
            "Epoch 36/50\n",
            "128/128 [==============================] - 10s 82ms/step - loss: 0.3803 - acc: 0.8672\n",
            "Epoch 37/50\n",
            "128/128 [==============================] - 10s 82ms/step - loss: 0.3825 - acc: 0.8649\n",
            "Epoch 38/50\n",
            "128/128 [==============================] - 10s 82ms/step - loss: 0.3386 - acc: 0.8814\n",
            "Epoch 39/50\n",
            "128/128 [==============================] - 10s 82ms/step - loss: 0.3266 - acc: 0.8859\n",
            "Epoch 40/50\n",
            "128/128 [==============================] - 11s 82ms/step - loss: 0.3152 - acc: 0.8907\n",
            "Epoch 41/50\n",
            "128/128 [==============================] - 10s 82ms/step - loss: 0.2921 - acc: 0.8969\n",
            "Epoch 42/50\n",
            "128/128 [==============================] - 10s 82ms/step - loss: 0.2800 - acc: 0.9036\n",
            "Epoch 43/50\n",
            "128/128 [==============================] - 10s 82ms/step - loss: 0.2383 - acc: 0.9180\n",
            "Epoch 44/50\n",
            "128/128 [==============================] - 10s 82ms/step - loss: 0.2601 - acc: 0.9095\n",
            "Epoch 45/50\n",
            "128/128 [==============================] - 11s 82ms/step - loss: 0.2155 - acc: 0.9249\n",
            "Epoch 46/50\n",
            "128/128 [==============================] - 10s 82ms/step - loss: 0.2205 - acc: 0.9222\n",
            "Epoch 47/50\n",
            "128/128 [==============================] - 11s 82ms/step - loss: 0.2084 - acc: 0.9302\n",
            "Epoch 48/50\n",
            "128/128 [==============================] - 10s 82ms/step - loss: 0.1944 - acc: 0.9347\n",
            "Epoch 49/50\n",
            "128/128 [==============================] - 10s 82ms/step - loss: 0.1904 - acc: 0.9342\n",
            "Epoch 50/50\n",
            "128/128 [==============================] - 10s 82ms/step - loss: 0.1743 - acc: 0.9429\n"
          ],
          "name": "stdout"
        }
      ]
    },
    {
      "metadata": {
        "id": "lBB9FptXbpea",
        "colab_type": "code",
        "colab": {}
      },
      "cell_type": "code",
      "source": [
        "model.save(\"fer2013.h5\")"
      ],
      "execution_count": 0,
      "outputs": []
    },
    {
      "metadata": {
        "id": "Y_db_rduQ96p",
        "colab_type": "code",
        "colab": {}
      },
      "cell_type": "code",
      "source": [
        ""
      ],
      "execution_count": 0,
      "outputs": []
    }
  ]
}